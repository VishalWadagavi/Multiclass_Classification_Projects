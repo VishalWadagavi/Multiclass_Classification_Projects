{
 "cells": [
  {
   "cell_type": "markdown",
   "metadata": {},
   "source": [
    "# Dress_Size_Prediction"
   ]
  },
  {
   "cell_type": "code",
   "execution_count": 259,
   "metadata": {
    "ExecuteTime": {
     "end_time": "2021-08-18T14:27:15.696087Z",
     "start_time": "2021-08-18T14:27:10.485729Z"
    }
   },
   "outputs": [],
   "source": [
    "import numpy as np\n",
    "import pandas as pd\n",
    "import matplotlib.pyplot as plt\n",
    "import seaborn as sns\n",
    "import warnings\n",
    "warnings.filterwarnings('ignore')"
   ]
  },
  {
   "cell_type": "code",
   "execution_count": 260,
   "metadata": {
    "ExecuteTime": {
     "end_time": "2021-08-18T14:28:05.265435Z",
     "start_time": "2021-08-18T14:27:20.820298Z"
    },
    "scrolled": true
   },
   "outputs": [
    {
     "data": {
      "text/html": [
       "<div>\n",
       "<style scoped>\n",
       "    .dataframe tbody tr th:only-of-type {\n",
       "        vertical-align: middle;\n",
       "    }\n",
       "\n",
       "    .dataframe tbody tr th {\n",
       "        vertical-align: top;\n",
       "    }\n",
       "\n",
       "    .dataframe thead th {\n",
       "        text-align: right;\n",
       "    }\n",
       "</style>\n",
       "<table border=\"1\" class=\"dataframe\">\n",
       "  <thead>\n",
       "    <tr style=\"text-align: right;\">\n",
       "      <th></th>\n",
       "      <th>weight</th>\n",
       "      <th>age</th>\n",
       "      <th>height</th>\n",
       "      <th>size</th>\n",
       "    </tr>\n",
       "  </thead>\n",
       "  <tbody>\n",
       "    <tr>\n",
       "      <th>0</th>\n",
       "      <td>62</td>\n",
       "      <td>28.0</td>\n",
       "      <td>172.72</td>\n",
       "      <td>XL</td>\n",
       "    </tr>\n",
       "    <tr>\n",
       "      <th>1</th>\n",
       "      <td>59</td>\n",
       "      <td>36.0</td>\n",
       "      <td>167.64</td>\n",
       "      <td>L</td>\n",
       "    </tr>\n",
       "    <tr>\n",
       "      <th>2</th>\n",
       "      <td>61</td>\n",
       "      <td>34.0</td>\n",
       "      <td>165.10</td>\n",
       "      <td>M</td>\n",
       "    </tr>\n",
       "    <tr>\n",
       "      <th>3</th>\n",
       "      <td>65</td>\n",
       "      <td>27.0</td>\n",
       "      <td>175.26</td>\n",
       "      <td>L</td>\n",
       "    </tr>\n",
       "    <tr>\n",
       "      <th>4</th>\n",
       "      <td>62</td>\n",
       "      <td>45.0</td>\n",
       "      <td>172.72</td>\n",
       "      <td>M</td>\n",
       "    </tr>\n",
       "  </tbody>\n",
       "</table>\n",
       "</div>"
      ],
      "text/plain": [
       "   weight   age  height size\n",
       "0      62  28.0  172.72   XL\n",
       "1      59  36.0  167.64    L\n",
       "2      61  34.0  165.10    M\n",
       "3      65  27.0  175.26    L\n",
       "4      62  45.0  172.72    M"
      ]
     },
     "execution_count": 260,
     "metadata": {},
     "output_type": "execute_result"
    }
   ],
   "source": [
    "df=pd.read_csv(r'file:///C:/Users/Admin/Documents/01_Learnbay/02_MyProjects/final_test.csv')\n",
    "df.head()"
   ]
  },
  {
   "cell_type": "code",
   "execution_count": 261,
   "metadata": {
    "ExecuteTime": {
     "end_time": "2021-08-18T14:28:13.371123Z",
     "start_time": "2021-08-18T14:28:05.600598Z"
    }
   },
   "outputs": [
    {
     "name": "stdout",
     "output_type": "stream",
     "text": [
      "<class 'pandas.core.frame.DataFrame'>\n",
      "RangeIndex: 119734 entries, 0 to 119733\n",
      "Data columns (total 4 columns):\n",
      " #   Column  Non-Null Count   Dtype  \n",
      "---  ------  --------------   -----  \n",
      " 0   weight  119734 non-null  int64  \n",
      " 1   age     119477 non-null  float64\n",
      " 2   height  119404 non-null  float64\n",
      " 3   size    119734 non-null  object \n",
      "dtypes: float64(2), int64(1), object(1)\n",
      "memory usage: 3.7+ MB\n"
     ]
    }
   ],
   "source": [
    "df.info()"
   ]
  },
  {
   "cell_type": "code",
   "execution_count": 262,
   "metadata": {
    "ExecuteTime": {
     "end_time": "2021-08-18T14:28:16.537016Z",
     "start_time": "2021-08-18T14:28:13.515108Z"
    },
    "scrolled": true
   },
   "outputs": [
    {
     "data": {
      "text/html": [
       "<div>\n",
       "<style scoped>\n",
       "    .dataframe tbody tr th:only-of-type {\n",
       "        vertical-align: middle;\n",
       "    }\n",
       "\n",
       "    .dataframe tbody tr th {\n",
       "        vertical-align: top;\n",
       "    }\n",
       "\n",
       "    .dataframe thead th {\n",
       "        text-align: right;\n",
       "    }\n",
       "</style>\n",
       "<table border=\"1\" class=\"dataframe\">\n",
       "  <thead>\n",
       "    <tr style=\"text-align: right;\">\n",
       "      <th></th>\n",
       "      <th>count</th>\n",
       "      <th>mean</th>\n",
       "      <th>std</th>\n",
       "      <th>min</th>\n",
       "      <th>1%</th>\n",
       "      <th>10%</th>\n",
       "      <th>25%</th>\n",
       "      <th>50%</th>\n",
       "      <th>75%</th>\n",
       "      <th>80%</th>\n",
       "      <th>90%</th>\n",
       "      <th>95%</th>\n",
       "      <th>99%</th>\n",
       "      <th>max</th>\n",
       "    </tr>\n",
       "  </thead>\n",
       "  <tbody>\n",
       "    <tr>\n",
       "      <th>weight</th>\n",
       "      <td>119734.0</td>\n",
       "      <td>61.756811</td>\n",
       "      <td>9.944863</td>\n",
       "      <td>22.00</td>\n",
       "      <td>45.0</td>\n",
       "      <td>52.00</td>\n",
       "      <td>55.00</td>\n",
       "      <td>61.0</td>\n",
       "      <td>67.00</td>\n",
       "      <td>68.00</td>\n",
       "      <td>74.00</td>\n",
       "      <td>80.0</td>\n",
       "      <td>95.00</td>\n",
       "      <td>136.00</td>\n",
       "    </tr>\n",
       "    <tr>\n",
       "      <th>age</th>\n",
       "      <td>119477.0</td>\n",
       "      <td>34.027311</td>\n",
       "      <td>8.149447</td>\n",
       "      <td>0.00</td>\n",
       "      <td>20.0</td>\n",
       "      <td>26.00</td>\n",
       "      <td>29.00</td>\n",
       "      <td>32.0</td>\n",
       "      <td>37.00</td>\n",
       "      <td>39.00</td>\n",
       "      <td>45.00</td>\n",
       "      <td>50.0</td>\n",
       "      <td>59.00</td>\n",
       "      <td>117.00</td>\n",
       "    </tr>\n",
       "    <tr>\n",
       "      <th>height</th>\n",
       "      <td>119404.0</td>\n",
       "      <td>165.805794</td>\n",
       "      <td>6.737651</td>\n",
       "      <td>137.16</td>\n",
       "      <td>152.4</td>\n",
       "      <td>157.48</td>\n",
       "      <td>160.02</td>\n",
       "      <td>165.1</td>\n",
       "      <td>170.18</td>\n",
       "      <td>172.72</td>\n",
       "      <td>175.26</td>\n",
       "      <td>177.8</td>\n",
       "      <td>180.34</td>\n",
       "      <td>193.04</td>\n",
       "    </tr>\n",
       "  </tbody>\n",
       "</table>\n",
       "</div>"
      ],
      "text/plain": [
       "           count        mean       std     min     1%     10%     25%    50%  \\\n",
       "weight  119734.0   61.756811  9.944863   22.00   45.0   52.00   55.00   61.0   \n",
       "age     119477.0   34.027311  8.149447    0.00   20.0   26.00   29.00   32.0   \n",
       "height  119404.0  165.805794  6.737651  137.16  152.4  157.48  160.02  165.1   \n",
       "\n",
       "           75%     80%     90%    95%     99%     max  \n",
       "weight   67.00   68.00   74.00   80.0   95.00  136.00  \n",
       "age      37.00   39.00   45.00   50.0   59.00  117.00  \n",
       "height  170.18  172.72  175.26  177.8  180.34  193.04  "
      ]
     },
     "execution_count": 262,
     "metadata": {},
     "output_type": "execute_result"
    }
   ],
   "source": [
    "df.describe(percentiles=(0.01,0.10,0.25,0.50,0.75,0.80,0.90,0.95,0.99)).T"
   ]
  },
  {
   "cell_type": "markdown",
   "metadata": {},
   "source": [
    "From description,\n",
    "- weight and age varaibles are right skewed distribution as there is huge difference between 99% quartile and max value and 1% quartile and min value."
   ]
  },
  {
   "cell_type": "markdown",
   "metadata": {},
   "source": [
    "## Exploratory Data Analysis"
   ]
  },
  {
   "cell_type": "markdown",
   "metadata": {},
   "source": [
    "### Histogram plots"
   ]
  },
  {
   "cell_type": "code",
   "execution_count": 264,
   "metadata": {
    "ExecuteTime": {
     "end_time": "2021-08-18T14:30:43.762236Z",
     "start_time": "2021-08-18T14:29:10.665446Z"
    }
   },
   "outputs": [
    {
     "data": {
      "image/png": "[encoded data removed]",
      "text/plain": [
       "<Figure size 1440x720 with 4 Axes>"
      ]
     },
     "metadata": {
      "needs_background": "light"
     },
     "output_type": "display_data"
    }
   ],
   "source": [
    "plt.figure(figsize=(20,10))\n",
    "for i,col in enumerate(df.columns,1):\n",
    "    plt.subplot(2,2,i)\n",
    "    sns.histplot(data=df,x=col)"
   ]
  },
  {
   "cell_type": "markdown",
   "metadata": {},
   "source": [
    "Histograms indicates,\n",
    "- weight and age variables are right skewed distributions.\n",
    "- height variable id more likely normally distributed.\n",
    "- Number of counts for XXL is very low."
   ]
  },
  {
   "cell_type": "markdown",
   "metadata": {},
   "source": [
    "### Box plots"
   ]
  },
  {
   "cell_type": "code",
   "execution_count": 265,
   "metadata": {
    "ExecuteTime": {
     "end_time": "2021-08-18T14:31:18.245112Z",
     "start_time": "2021-08-18T14:31:16.404719Z"
    },
    "scrolled": false
   },
   "outputs": [
    {
     "data": {
      "image/png": "[encoded data removed]",
      "text/plain": [
       "<Figure size 720x720 with 3 Axes>"
      ]
     },
     "metadata": {
      "needs_background": "light"
     },
     "output_type": "display_data"
    }
   ],
   "source": [
    "plt.figure(figsize=(10,10))\n",
    "for i,col in enumerate(df.drop(['size'],axis=1).columns,1):\n",
    "    plt.subplot(2,2,i)\n",
    "    ax=sns.boxplot(data=df,y=col)"
   ]
  },
  {
   "cell_type": "markdown",
   "metadata": {},
   "source": [
    "### Correlation Heatmap"
   ]
  },
  {
   "cell_type": "code",
   "execution_count": 316,
   "metadata": {
    "ExecuteTime": {
     "end_time": "2021-08-18T15:55:47.677165Z",
     "start_time": "2021-08-18T15:55:47.240026Z"
    }
   },
   "outputs": [
    {
     "data": {
      "text/plain": [
       "<AxesSubplot:>"
      ]
     },
     "execution_count": 316,
     "metadata": {},
     "output_type": "execute_result"
    },
    {
     "data": {
      "image/png": "[encoded data removed]",
      "text/plain": [
       "<Figure size 576x360 with 2 Axes>"
      ]
     },
     "metadata": {
      "needs_background": "light"
     },
     "output_type": "display_data"
    }
   ],
   "source": [
    "plt.figure(figsize=(8,5))\n",
    "sns.heatmap(df.corr(),annot=True,linewidths=0.5,fmt='0.2F',mask=np.triu(df.corr()))"
   ]
  },
  {
   "cell_type": "markdown",
   "metadata": {},
   "source": [
    "### Outlier treatment"
   ]
  },
  {
   "cell_type": "code",
   "execution_count": 274,
   "metadata": {
    "ExecuteTime": {
     "end_time": "2021-08-18T14:48:45.674257Z",
     "start_time": "2021-08-18T14:48:45.658258Z"
    }
   },
   "outputs": [],
   "source": [
    "def outlier_cap(x):\n",
    "    x=x.clip(lower=x.quantile(0.01))\n",
    "    x=x.clip(upper=x.quantile(0.99))\n",
    "    return(x)"
   ]
  },
  {
   "cell_type": "code",
   "execution_count": 275,
   "metadata": {
    "ExecuteTime": {
     "end_time": "2021-08-18T14:48:48.886215Z",
     "start_time": "2021-08-18T14:48:48.862191Z"
    }
   },
   "outputs": [],
   "source": [
    "X=df.drop(['size'],axis=1)\n",
    "y=df['size']"
   ]
  },
  {
   "cell_type": "code",
   "execution_count": 276,
   "metadata": {
    "ExecuteTime": {
     "end_time": "2021-08-18T14:48:57.400176Z",
     "start_time": "2021-08-18T14:48:57.072475Z"
    }
   },
   "outputs": [
    {
     "data": {
      "text/html": [
       "<div>\n",
       "<style scoped>\n",
       "    .dataframe tbody tr th:only-of-type {\n",
       "        vertical-align: middle;\n",
       "    }\n",
       "\n",
       "    .dataframe tbody tr th {\n",
       "        vertical-align: top;\n",
       "    }\n",
       "\n",
       "    .dataframe thead th {\n",
       "        text-align: right;\n",
       "    }\n",
       "</style>\n",
       "<table border=\"1\" class=\"dataframe\">\n",
       "  <thead>\n",
       "    <tr style=\"text-align: right;\">\n",
       "      <th></th>\n",
       "      <th>weight</th>\n",
       "      <th>age</th>\n",
       "      <th>height</th>\n",
       "    </tr>\n",
       "  </thead>\n",
       "  <tbody>\n",
       "    <tr>\n",
       "      <th>0</th>\n",
       "      <td>62</td>\n",
       "      <td>28.0</td>\n",
       "      <td>172.72</td>\n",
       "    </tr>\n",
       "    <tr>\n",
       "      <th>1</th>\n",
       "      <td>59</td>\n",
       "      <td>36.0</td>\n",
       "      <td>167.64</td>\n",
       "    </tr>\n",
       "    <tr>\n",
       "      <th>2</th>\n",
       "      <td>61</td>\n",
       "      <td>34.0</td>\n",
       "      <td>165.10</td>\n",
       "    </tr>\n",
       "    <tr>\n",
       "      <th>3</th>\n",
       "      <td>65</td>\n",
       "      <td>27.0</td>\n",
       "      <td>175.26</td>\n",
       "    </tr>\n",
       "    <tr>\n",
       "      <th>4</th>\n",
       "      <td>62</td>\n",
       "      <td>45.0</td>\n",
       "      <td>172.72</td>\n",
       "    </tr>\n",
       "  </tbody>\n",
       "</table>\n",
       "</div>"
      ],
      "text/plain": [
       "   weight   age  height\n",
       "0      62  28.0  172.72\n",
       "1      59  36.0  167.64\n",
       "2      61  34.0  165.10\n",
       "3      65  27.0  175.26\n",
       "4      62  45.0  172.72"
      ]
     },
     "execution_count": 276,
     "metadata": {},
     "output_type": "execute_result"
    }
   ],
   "source": [
    "X=X.apply(lambda x:outlier_cap(x))\n",
    "X.head()"
   ]
  },
  {
   "cell_type": "code",
   "execution_count": 288,
   "metadata": {
    "ExecuteTime": {
     "end_time": "2021-08-18T14:55:57.531199Z",
     "start_time": "2021-08-18T14:55:53.811878Z"
    }
   },
   "outputs": [
    {
     "data": {
      "image/png": "[encoded data removed]",
      "text/plain": [
       "<Figure size 1440x720 with 3 Axes>"
      ]
     },
     "metadata": {
      "needs_background": "light"
     },
     "output_type": "display_data"
    }
   ],
   "source": [
    "plt.figure(figsize=(20,10))\n",
    "for i,col in enumerate(X.columns,1):\n",
    "    plt.subplot(2,2,i)\n",
    "    sns.histplot(data=X,x=col,color='g')"
   ]
  },
  {
   "cell_type": "code",
   "execution_count": 281,
   "metadata": {
    "ExecuteTime": {
     "end_time": "2021-08-18T14:52:52.937942Z",
     "start_time": "2021-08-18T14:52:52.868103Z"
    }
   },
   "outputs": [
    {
     "data": {
      "text/html": [
       "<div>\n",
       "<style scoped>\n",
       "    .dataframe tbody tr th:only-of-type {\n",
       "        vertical-align: middle;\n",
       "    }\n",
       "\n",
       "    .dataframe tbody tr th {\n",
       "        vertical-align: top;\n",
       "    }\n",
       "\n",
       "    .dataframe thead th {\n",
       "        text-align: right;\n",
       "    }\n",
       "</style>\n",
       "<table border=\"1\" class=\"dataframe\">\n",
       "  <thead>\n",
       "    <tr style=\"text-align: right;\">\n",
       "      <th></th>\n",
       "      <th>count</th>\n",
       "      <th>mean</th>\n",
       "      <th>std</th>\n",
       "      <th>min</th>\n",
       "      <th>25%</th>\n",
       "      <th>50%</th>\n",
       "      <th>75%</th>\n",
       "      <th>max</th>\n",
       "    </tr>\n",
       "  </thead>\n",
       "  <tbody>\n",
       "    <tr>\n",
       "      <th>weight</th>\n",
       "      <td>119734.0</td>\n",
       "      <td>61.669826</td>\n",
       "      <td>9.509611</td>\n",
       "      <td>45.0</td>\n",
       "      <td>55.00</td>\n",
       "      <td>61.0</td>\n",
       "      <td>67.00</td>\n",
       "      <td>95.00</td>\n",
       "    </tr>\n",
       "    <tr>\n",
       "      <th>age</th>\n",
       "      <td>119477.0</td>\n",
       "      <td>33.981486</td>\n",
       "      <td>7.815205</td>\n",
       "      <td>20.0</td>\n",
       "      <td>29.00</td>\n",
       "      <td>32.0</td>\n",
       "      <td>37.00</td>\n",
       "      <td>59.00</td>\n",
       "    </tr>\n",
       "    <tr>\n",
       "      <th>height</th>\n",
       "      <td>119404.0</td>\n",
       "      <td>165.795860</td>\n",
       "      <td>6.588928</td>\n",
       "      <td>152.4</td>\n",
       "      <td>160.02</td>\n",
       "      <td>165.1</td>\n",
       "      <td>170.18</td>\n",
       "      <td>180.34</td>\n",
       "    </tr>\n",
       "  </tbody>\n",
       "</table>\n",
       "</div>"
      ],
      "text/plain": [
       "           count        mean       std    min     25%    50%     75%     max\n",
       "weight  119734.0   61.669826  9.509611   45.0   55.00   61.0   67.00   95.00\n",
       "age     119477.0   33.981486  7.815205   20.0   29.00   32.0   37.00   59.00\n",
       "height  119404.0  165.795860  6.588928  152.4  160.02  165.1  170.18  180.34"
      ]
     },
     "execution_count": 281,
     "metadata": {},
     "output_type": "execute_result"
    }
   ],
   "source": [
    "X.describe().T"
   ]
  },
  {
   "cell_type": "code",
   "execution_count": 284,
   "metadata": {
    "ExecuteTime": {
     "end_time": "2021-08-18T14:53:46.913089Z",
     "start_time": "2021-08-18T14:53:46.881091Z"
    }
   },
   "outputs": [
    {
     "data": {
      "text/plain": [
       "weight      0\n",
       "age       257\n",
       "height    330\n",
       "dtype: int64"
      ]
     },
     "execution_count": 284,
     "metadata": {},
     "output_type": "execute_result"
    }
   ],
   "source": [
    "X.isnull().sum()"
   ]
  },
  {
   "cell_type": "markdown",
   "metadata": {},
   "source": [
    "### Scaling"
   ]
  },
  {
   "cell_type": "code",
   "execution_count": 285,
   "metadata": {
    "ExecuteTime": {
     "end_time": "2021-08-18T14:54:13.294078Z",
     "start_time": "2021-08-18T14:54:13.036718Z"
    },
    "scrolled": true
   },
   "outputs": [
    {
     "data": {
      "text/plain": [
       "array([[ 0.03472013, -0.7653684 ,  1.05087941],\n",
       "       [-0.28075151,  0.25828145,  0.27988583],\n",
       "       [-0.07043708,  0.00236898, -0.10561096],\n",
       "       ...,\n",
       "       [-0.07043708, -0.38149971,  1.05087941],\n",
       "       [ 1.29660669, -0.38149971,  0.27988583],\n",
       "       [ 0.87597784, -0.50945594,  0.27988583]])"
      ]
     },
     "execution_count": 285,
     "metadata": {},
     "output_type": "execute_result"
    }
   ],
   "source": [
    "from sklearn.preprocessing import StandardScaler\n",
    "scaler=StandardScaler()\n",
    "X_sc=scaler.fit_transform(X)\n",
    "X_sc"
   ]
  },
  {
   "cell_type": "markdown",
   "metadata": {},
   "source": [
    "### Missing value imputation using KNNImputer"
   ]
  },
  {
   "cell_type": "code",
   "execution_count": 289,
   "metadata": {
    "ExecuteTime": {
     "end_time": "2021-08-18T14:56:32.483506Z",
     "start_time": "2021-08-18T14:56:19.366130Z"
    }
   },
   "outputs": [
    {
     "data": {
      "text/html": [
       "<div>\n",
       "<style scoped>\n",
       "    .dataframe tbody tr th:only-of-type {\n",
       "        vertical-align: middle;\n",
       "    }\n",
       "\n",
       "    .dataframe tbody tr th {\n",
       "        vertical-align: top;\n",
       "    }\n",
       "\n",
       "    .dataframe thead th {\n",
       "        text-align: right;\n",
       "    }\n",
       "</style>\n",
       "<table border=\"1\" class=\"dataframe\">\n",
       "  <thead>\n",
       "    <tr style=\"text-align: right;\">\n",
       "      <th></th>\n",
       "      <th>weight</th>\n",
       "      <th>age</th>\n",
       "      <th>height</th>\n",
       "    </tr>\n",
       "  </thead>\n",
       "  <tbody>\n",
       "    <tr>\n",
       "      <th>0</th>\n",
       "      <td>0.034720</td>\n",
       "      <td>-0.765368</td>\n",
       "      <td>1.050879</td>\n",
       "    </tr>\n",
       "    <tr>\n",
       "      <th>1</th>\n",
       "      <td>-0.280752</td>\n",
       "      <td>0.258281</td>\n",
       "      <td>0.279886</td>\n",
       "    </tr>\n",
       "    <tr>\n",
       "      <th>2</th>\n",
       "      <td>-0.070437</td>\n",
       "      <td>0.002369</td>\n",
       "      <td>-0.105611</td>\n",
       "    </tr>\n",
       "    <tr>\n",
       "      <th>3</th>\n",
       "      <td>0.350192</td>\n",
       "      <td>-0.893325</td>\n",
       "      <td>1.436376</td>\n",
       "    </tr>\n",
       "    <tr>\n",
       "      <th>4</th>\n",
       "      <td>0.034720</td>\n",
       "      <td>1.409888</td>\n",
       "      <td>1.050879</td>\n",
       "    </tr>\n",
       "  </tbody>\n",
       "</table>\n",
       "</div>"
      ],
      "text/plain": [
       "     weight       age    height\n",
       "0  0.034720 -0.765368  1.050879\n",
       "1 -0.280752  0.258281  0.279886\n",
       "2 -0.070437  0.002369 -0.105611\n",
       "3  0.350192 -0.893325  1.436376\n",
       "4  0.034720  1.409888  1.050879"
      ]
     },
     "execution_count": 289,
     "metadata": {},
     "output_type": "execute_result"
    }
   ],
   "source": [
    "from sklearn.impute import KNNImputer\n",
    "impute=KNNImputer(n_neighbors=5)\n",
    "X_sc_i=impute.fit_transform(X_sc)\n",
    "X_sc_i=pd.DataFrame(X_sc_i,columns=['weight','age','height'])\n",
    "X_sc_i.head()"
   ]
  },
  {
   "cell_type": "code",
   "execution_count": 290,
   "metadata": {
    "ExecuteTime": {
     "end_time": "2021-08-18T14:56:49.404933Z",
     "start_time": "2021-08-18T14:56:46.836928Z"
    }
   },
   "outputs": [
    {
     "data": {
      "text/plain": [
       "<AxesSubplot:>"
      ]
     },
     "execution_count": 290,
     "metadata": {},
     "output_type": "execute_result"
    },
    {
     "data": {
      "image/png": "[encoded data removed]",
      "text/plain": [
       "<Figure size 432x288 with 1 Axes>"
      ]
     },
     "metadata": {
      "needs_background": "light"
     },
     "output_type": "display_data"
    }
   ],
   "source": [
    "sns.boxplot(data=X_sc_i)"
   ]
  },
  {
   "cell_type": "markdown",
   "metadata": {},
   "source": [
    "### LabelEncoding"
   ]
  },
  {
   "cell_type": "code",
   "execution_count": 291,
   "metadata": {
    "ExecuteTime": {
     "end_time": "2021-08-18T14:58:04.847476Z",
     "start_time": "2021-08-18T14:58:03.094432Z"
    }
   },
   "outputs": [
    {
     "name": "stdout",
     "output_type": "stream",
     "text": [
      "M       29712\n",
      "S       21924\n",
      "XXXL    21359\n",
      "XL      19119\n",
      "L       17587\n",
      "XXS      9964\n",
      "XXL        69\n",
      "Name: size, dtype: int64\n"
     ]
    },
    {
     "data": {
      "text/plain": [
       "1    29712\n",
       "2    21924\n",
       "6    21359\n",
       "3    19119\n",
       "0    17587\n",
       "5     9964\n",
       "4       69\n",
       "dtype: int64"
      ]
     },
     "execution_count": 291,
     "metadata": {},
     "output_type": "execute_result"
    }
   ],
   "source": [
    "from sklearn.preprocessing import LabelEncoder\n",
    "label=LabelEncoder()\n",
    "print(y.value_counts())\n",
    "y=label.fit_transform(y)\n",
    "pd.DataFrame(y).value_counts()"
   ]
  },
  {
   "cell_type": "markdown",
   "metadata": {},
   "source": [
    "### Data splitting "
   ]
  },
  {
   "cell_type": "code",
   "execution_count": 292,
   "metadata": {
    "ExecuteTime": {
     "end_time": "2021-08-18T14:58:49.177247Z",
     "start_time": "2021-08-18T14:58:48.328681Z"
    }
   },
   "outputs": [],
   "source": [
    "from sklearn.model_selection import train_test_split\n",
    "X_train,X_test,y_train,y_test=train_test_split(X_sc_i,y,test_size=0.2,random_state=13)"
   ]
  },
  {
   "cell_type": "markdown",
   "metadata": {},
   "source": [
    "## DecisionTreeClassifier"
   ]
  },
  {
   "cell_type": "code",
   "execution_count": 293,
   "metadata": {
    "ExecuteTime": {
     "end_time": "2021-08-18T15:01:23.079299Z",
     "start_time": "2021-08-18T14:59:15.678356Z"
    },
    "scrolled": false
   },
   "outputs": [
    {
     "name": "stdout",
     "output_type": "stream",
     "text": [
      "Fitting 5 folds for each of 768 candidates, totalling 3840 fits\n"
     ]
    },
    {
     "name": "stderr",
     "output_type": "stream",
     "text": [
      "[Parallel(n_jobs=-1)]: Using backend LokyBackend with 4 concurrent workers.\n",
      "[Parallel(n_jobs=-1)]: Done  42 tasks      | elapsed:   40.5s\n",
      "[Parallel(n_jobs=-1)]: Done 288 tasks      | elapsed:   46.0s\n",
      "[Parallel(n_jobs=-1)]: Done 788 tasks      | elapsed:   58.1s\n",
      "[Parallel(n_jobs=-1)]: Done 1488 tasks      | elapsed:  1.2min\n",
      "[Parallel(n_jobs=-1)]: Done 2388 tasks      | elapsed:  1.5min\n",
      "[Parallel(n_jobs=-1)]: Done 3488 tasks      | elapsed:  1.9min\n",
      "[Parallel(n_jobs=-1)]: Done 3840 out of 3840 | elapsed:  2.1min finished\n"
     ]
    },
    {
     "name": "stdout",
     "output_type": "stream",
     "text": [
      "0.44844266913129827\n",
      "{'criterion': 'gini', 'max_depth': 4, 'max_features': 'auto', 'min_samples_leaf': 4, 'min_samples_split': 4, 'splitter': 'best'}\n"
     ]
    }
   ],
   "source": [
    "from sklearn.tree import DecisionTreeClassifier\n",
    "from sklearn.model_selection import GridSearchCV\n",
    "from sklearn.metrics import make_scorer,f1_score,accuracy_score\n",
    "params={'criterion':['gini','entropy'],\n",
    "       'splitter':['best','random'],\n",
    "       'max_depth':range(1,5),\n",
    "       'min_samples_split':range(1,5),\n",
    "       'min_samples_leaf':range(1,5),\n",
    "       'max_features':['auto','sqrt','log2']}\n",
    "grid_DT=GridSearchCV(DecisionTreeClassifier(),params,scoring=make_scorer(accuracy_score),cv=5,verbose=1,n_jobs=-1)\n",
    "grid_DT.fit(X_train,y_train)\n",
    "print(grid_DT.best_score_)\n",
    "print(grid_DT.best_params_)\n",
    "DT_clf=grid_DT.best_estimator_"
   ]
  },
  {
   "cell_type": "markdown",
   "metadata": {},
   "source": [
    "### print_score function "
   ]
  },
  {
   "cell_type": "code",
   "execution_count": 353,
   "metadata": {
    "ExecuteTime": {
     "end_time": "2021-08-20T15:15:49.472130Z",
     "start_time": "2021-08-20T15:15:49.323012Z"
    }
   },
   "outputs": [],
   "source": [
    "result_df={'models':[],'Train_score':[],'Test_score':[]}"
   ]
  },
  {
   "cell_type": "code",
   "execution_count": 354,
   "metadata": {
    "ExecuteTime": {
     "end_time": "2021-08-20T15:15:53.006361Z",
     "start_time": "2021-08-20T15:15:52.678447Z"
    }
   },
   "outputs": [],
   "source": [
    "from sklearn.metrics import confusion_matrix,classification_report\n",
    "def print_score(clf,X_train,y_train,X_test,y_test):\n",
    "    y_pred=clf.predict(X_train)\n",
    "    print('Train data evaluation\\n=====================================================================================================')\n",
    "    print('Train accuracy score: ',accuracy_score(y_train,y_pred))\n",
    "    print('\\nConfusion Matrix:')\n",
    "    display(pd.DataFrame(confusion_matrix(y_train,y_pred)))\n",
    "    print('\\nClassification Report:')\n",
    "    clf_report=classification_report(y_train,y_pred,output_dict=True)\n",
    "    display(pd.DataFrame(clf_report))\n",
    "\n",
    "    print('\\nTest data evaluation\\n=======================================================================================================')\n",
    "    y_pred1=clf.predict(X_test)\n",
    "    print('Test accuracy score: ',accuracy_score(y_test,y_pred1))\n",
    "    print('\\nConfusion Matrix:')\n",
    "    display(pd.DataFrame(confusion_matrix(y_test,y_pred1)))\n",
    "    print('\\nClassification Report:')\n",
    "    clf_report=classification_report(y_test,y_pred1,output_dict=True)\n",
    "    display(pd.DataFrame(clf_report))\n",
    "    \n",
    "    result_df['models'].append(clf)\n",
    "    result_df['Train_score'].append(accuracy_score(y_train,y_pred))\n",
    "    result_df['Test_score'].append(accuracy_score(y_test,y_pred1))"
   ]
  },
  {
   "cell_type": "markdown",
   "metadata": {},
   "source": [
    "### Results"
   ]
  },
  {
   "cell_type": "code",
   "execution_count": 355,
   "metadata": {
    "ExecuteTime": {
     "end_time": "2021-08-20T15:16:13.305383Z",
     "start_time": "2021-08-20T15:16:11.915899Z"
    }
   },
   "outputs": [
    {
     "name": "stdout",
     "output_type": "stream",
     "text": [
      "Train data evaluation\n",
      "=====================================================================================================\n",
      "Train accuracy score:  0.46476035370144175\n",
      "\n",
      "Confusion Matrix:\n"
     ]
    },
    {
     "data": {
      "text/html": [
       "<div>\n",
       "<style scoped>\n",
       "    .dataframe tbody tr th:only-of-type {\n",
       "        vertical-align: middle;\n",
       "    }\n",
       "\n",
       "    .dataframe tbody tr th {\n",
       "        vertical-align: top;\n",
       "    }\n",
       "\n",
       "    .dataframe thead th {\n",
       "        text-align: right;\n",
       "    }\n",
       "</style>\n",
       "<table border=\"1\" class=\"dataframe\">\n",
       "  <thead>\n",
       "    <tr style=\"text-align: right;\">\n",
       "      <th></th>\n",
       "      <th>0</th>\n",
       "      <th>1</th>\n",
       "      <th>2</th>\n",
       "      <th>3</th>\n",
       "      <th>4</th>\n",
       "      <th>5</th>\n",
       "      <th>6</th>\n",
       "    </tr>\n",
       "  </thead>\n",
       "  <tbody>\n",
       "    <tr>\n",
       "      <th>0</th>\n",
       "      <td>0</td>\n",
       "      <td>9403</td>\n",
       "      <td>1431</td>\n",
       "      <td>2196</td>\n",
       "      <td>0</td>\n",
       "      <td>0</td>\n",
       "      <td>1136</td>\n",
       "    </tr>\n",
       "    <tr>\n",
       "      <th>1</th>\n",
       "      <td>0</td>\n",
       "      <td>13599</td>\n",
       "      <td>8898</td>\n",
       "      <td>829</td>\n",
       "      <td>0</td>\n",
       "      <td>0</td>\n",
       "      <td>375</td>\n",
       "    </tr>\n",
       "    <tr>\n",
       "      <th>2</th>\n",
       "      <td>0</td>\n",
       "      <td>3701</td>\n",
       "      <td>13709</td>\n",
       "      <td>85</td>\n",
       "      <td>0</td>\n",
       "      <td>0</td>\n",
       "      <td>67</td>\n",
       "    </tr>\n",
       "    <tr>\n",
       "      <th>3</th>\n",
       "      <td>0</td>\n",
       "      <td>6662</td>\n",
       "      <td>633</td>\n",
       "      <td>3858</td>\n",
       "      <td>0</td>\n",
       "      <td>0</td>\n",
       "      <td>4083</td>\n",
       "    </tr>\n",
       "    <tr>\n",
       "      <th>4</th>\n",
       "      <td>0</td>\n",
       "      <td>19</td>\n",
       "      <td>1</td>\n",
       "      <td>7</td>\n",
       "      <td>0</td>\n",
       "      <td>0</td>\n",
       "      <td>33</td>\n",
       "    </tr>\n",
       "    <tr>\n",
       "      <th>5</th>\n",
       "      <td>0</td>\n",
       "      <td>333</td>\n",
       "      <td>7606</td>\n",
       "      <td>8</td>\n",
       "      <td>0</td>\n",
       "      <td>0</td>\n",
       "      <td>14</td>\n",
       "    </tr>\n",
       "    <tr>\n",
       "      <th>6</th>\n",
       "      <td>0</td>\n",
       "      <td>1407</td>\n",
       "      <td>115</td>\n",
       "      <td>2227</td>\n",
       "      <td>0</td>\n",
       "      <td>0</td>\n",
       "      <td>13352</td>\n",
       "    </tr>\n",
       "  </tbody>\n",
       "</table>\n",
       "</div>"
      ],
      "text/plain": [
       "   0      1      2     3  4  5      6\n",
       "0  0   9403   1431  2196  0  0   1136\n",
       "1  0  13599   8898   829  0  0    375\n",
       "2  0   3701  13709    85  0  0     67\n",
       "3  0   6662    633  3858  0  0   4083\n",
       "4  0     19      1     7  0  0     33\n",
       "5  0    333   7606     8  0  0     14\n",
       "6  0   1407    115  2227  0  0  13352"
      ]
     },
     "metadata": {},
     "output_type": "display_data"
    },
    {
     "name": "stdout",
     "output_type": "stream",
     "text": [
      "\n",
      "Classification Report:\n"
     ]
    },
    {
     "data": {
      "text/html": [
       "<div>\n",
       "<style scoped>\n",
       "    .dataframe tbody tr th:only-of-type {\n",
       "        vertical-align: middle;\n",
       "    }\n",
       "\n",
       "    .dataframe tbody tr th {\n",
       "        vertical-align: top;\n",
       "    }\n",
       "\n",
       "    .dataframe thead th {\n",
       "        text-align: right;\n",
       "    }\n",
       "</style>\n",
       "<table border=\"1\" class=\"dataframe\">\n",
       "  <thead>\n",
       "    <tr style=\"text-align: right;\">\n",
       "      <th></th>\n",
       "      <th>0</th>\n",
       "      <th>1</th>\n",
       "      <th>2</th>\n",
       "      <th>3</th>\n",
       "      <th>4</th>\n",
       "      <th>5</th>\n",
       "      <th>6</th>\n",
       "      <th>accuracy</th>\n",
       "      <th>macro avg</th>\n",
       "      <th>weighted avg</th>\n",
       "    </tr>\n",
       "  </thead>\n",
       "  <tbody>\n",
       "    <tr>\n",
       "      <th>precision</th>\n",
       "      <td>0.0</td>\n",
       "      <td>0.387171</td>\n",
       "      <td>0.423209</td>\n",
       "      <td>0.418893</td>\n",
       "      <td>0.0</td>\n",
       "      <td>0.0</td>\n",
       "      <td>0.700525</td>\n",
       "      <td>0.46476</td>\n",
       "      <td>0.275685</td>\n",
       "      <td>0.365088</td>\n",
       "    </tr>\n",
       "    <tr>\n",
       "      <th>recall</th>\n",
       "      <td>0.0</td>\n",
       "      <td>0.573773</td>\n",
       "      <td>0.780606</td>\n",
       "      <td>0.253216</td>\n",
       "      <td>0.0</td>\n",
       "      <td>0.0</td>\n",
       "      <td>0.780773</td>\n",
       "      <td>0.46476</td>\n",
       "      <td>0.341195</td>\n",
       "      <td>0.464760</td>\n",
       "    </tr>\n",
       "    <tr>\n",
       "      <th>f1-score</th>\n",
       "      <td>0.0</td>\n",
       "      <td>0.462354</td>\n",
       "      <td>0.548854</td>\n",
       "      <td>0.315634</td>\n",
       "      <td>0.0</td>\n",
       "      <td>0.0</td>\n",
       "      <td>0.738475</td>\n",
       "      <td>0.46476</td>\n",
       "      <td>0.295045</td>\n",
       "      <td>0.397078</td>\n",
       "    </tr>\n",
       "    <tr>\n",
       "      <th>support</th>\n",
       "      <td>14166.0</td>\n",
       "      <td>23701.000000</td>\n",
       "      <td>17562.000000</td>\n",
       "      <td>15236.000000</td>\n",
       "      <td>60.0</td>\n",
       "      <td>7961.0</td>\n",
       "      <td>17101.000000</td>\n",
       "      <td>0.46476</td>\n",
       "      <td>95787.000000</td>\n",
       "      <td>95787.000000</td>\n",
       "    </tr>\n",
       "  </tbody>\n",
       "</table>\n",
       "</div>"
      ],
      "text/plain": [
       "                 0             1             2             3     4       5  \\\n",
       "precision      0.0      0.387171      0.423209      0.418893   0.0     0.0   \n",
       "recall         0.0      0.573773      0.780606      0.253216   0.0     0.0   \n",
       "f1-score       0.0      0.462354      0.548854      0.315634   0.0     0.0   \n",
       "support    14166.0  23701.000000  17562.000000  15236.000000  60.0  7961.0   \n",
       "\n",
       "                      6  accuracy     macro avg  weighted avg  \n",
       "precision      0.700525   0.46476      0.275685      0.365088  \n",
       "recall         0.780773   0.46476      0.341195      0.464760  \n",
       "f1-score       0.738475   0.46476      0.295045      0.397078  \n",
       "support    17101.000000   0.46476  95787.000000  95787.000000  "
      ]
     },
     "metadata": {},
     "output_type": "display_data"
    },
    {
     "name": "stdout",
     "output_type": "stream",
     "text": [
      "\n",
      "Test data evaluation\n",
      "=======================================================================================================\n",
      "Test accuracy score:  0.4654445233223368\n",
      "\n",
      "Confusion Matrix:\n"
     ]
    },
    {
     "data": {
      "text/html": [
       "<div>\n",
       "<style scoped>\n",
       "    .dataframe tbody tr th:only-of-type {\n",
       "        vertical-align: middle;\n",
       "    }\n",
       "\n",
       "    .dataframe tbody tr th {\n",
       "        vertical-align: top;\n",
       "    }\n",
       "\n",
       "    .dataframe thead th {\n",
       "        text-align: right;\n",
       "    }\n",
       "</style>\n",
       "<table border=\"1\" class=\"dataframe\">\n",
       "  <thead>\n",
       "    <tr style=\"text-align: right;\">\n",
       "      <th></th>\n",
       "      <th>0</th>\n",
       "      <th>1</th>\n",
       "      <th>2</th>\n",
       "      <th>3</th>\n",
       "      <th>4</th>\n",
       "      <th>5</th>\n",
       "      <th>6</th>\n",
       "    </tr>\n",
       "  </thead>\n",
       "  <tbody>\n",
       "    <tr>\n",
       "      <th>0</th>\n",
       "      <td>0</td>\n",
       "      <td>2266</td>\n",
       "      <td>358</td>\n",
       "      <td>488</td>\n",
       "      <td>0</td>\n",
       "      <td>0</td>\n",
       "      <td>309</td>\n",
       "    </tr>\n",
       "    <tr>\n",
       "      <th>1</th>\n",
       "      <td>0</td>\n",
       "      <td>3452</td>\n",
       "      <td>2214</td>\n",
       "      <td>241</td>\n",
       "      <td>0</td>\n",
       "      <td>0</td>\n",
       "      <td>104</td>\n",
       "    </tr>\n",
       "    <tr>\n",
       "      <th>2</th>\n",
       "      <td>0</td>\n",
       "      <td>937</td>\n",
       "      <td>3387</td>\n",
       "      <td>23</td>\n",
       "      <td>0</td>\n",
       "      <td>0</td>\n",
       "      <td>15</td>\n",
       "    </tr>\n",
       "    <tr>\n",
       "      <th>3</th>\n",
       "      <td>0</td>\n",
       "      <td>1664</td>\n",
       "      <td>164</td>\n",
       "      <td>1002</td>\n",
       "      <td>0</td>\n",
       "      <td>0</td>\n",
       "      <td>1053</td>\n",
       "    </tr>\n",
       "    <tr>\n",
       "      <th>4</th>\n",
       "      <td>0</td>\n",
       "      <td>5</td>\n",
       "      <td>0</td>\n",
       "      <td>0</td>\n",
       "      <td>0</td>\n",
       "      <td>0</td>\n",
       "      <td>4</td>\n",
       "    </tr>\n",
       "    <tr>\n",
       "      <th>5</th>\n",
       "      <td>0</td>\n",
       "      <td>62</td>\n",
       "      <td>1938</td>\n",
       "      <td>2</td>\n",
       "      <td>0</td>\n",
       "      <td>0</td>\n",
       "      <td>1</td>\n",
       "    </tr>\n",
       "    <tr>\n",
       "      <th>6</th>\n",
       "      <td>0</td>\n",
       "      <td>390</td>\n",
       "      <td>27</td>\n",
       "      <td>536</td>\n",
       "      <td>0</td>\n",
       "      <td>0</td>\n",
       "      <td>3305</td>\n",
       "    </tr>\n",
       "  </tbody>\n",
       "</table>\n",
       "</div>"
      ],
      "text/plain": [
       "   0     1     2     3  4  5     6\n",
       "0  0  2266   358   488  0  0   309\n",
       "1  0  3452  2214   241  0  0   104\n",
       "2  0   937  3387    23  0  0    15\n",
       "3  0  1664   164  1002  0  0  1053\n",
       "4  0     5     0     0  0  0     4\n",
       "5  0    62  1938     2  0  0     1\n",
       "6  0   390    27   536  0  0  3305"
      ]
     },
     "metadata": {},
     "output_type": "display_data"
    },
    {
     "name": "stdout",
     "output_type": "stream",
     "text": [
      "\n",
      "Classification Report:\n"
     ]
    },
    {
     "data": {
      "text/html": [
       "<div>\n",
       "<style scoped>\n",
       "    .dataframe tbody tr th:only-of-type {\n",
       "        vertical-align: middle;\n",
       "    }\n",
       "\n",
       "    .dataframe tbody tr th {\n",
       "        vertical-align: top;\n",
       "    }\n",
       "\n",
       "    .dataframe thead th {\n",
       "        text-align: right;\n",
       "    }\n",
       "</style>\n",
       "<table border=\"1\" class=\"dataframe\">\n",
       "  <thead>\n",
       "    <tr style=\"text-align: right;\">\n",
       "      <th></th>\n",
       "      <th>0</th>\n",
       "      <th>1</th>\n",
       "      <th>2</th>\n",
       "      <th>3</th>\n",
       "      <th>4</th>\n",
       "      <th>5</th>\n",
       "      <th>6</th>\n",
       "      <th>accuracy</th>\n",
       "      <th>macro avg</th>\n",
       "      <th>weighted avg</th>\n",
       "    </tr>\n",
       "  </thead>\n",
       "  <tbody>\n",
       "    <tr>\n",
       "      <th>precision</th>\n",
       "      <td>0.0</td>\n",
       "      <td>0.393345</td>\n",
       "      <td>0.418769</td>\n",
       "      <td>0.437173</td>\n",
       "      <td>0.0</td>\n",
       "      <td>0.0</td>\n",
       "      <td>0.689835</td>\n",
       "      <td>0.465445</td>\n",
       "      <td>0.277017</td>\n",
       "      <td>0.368561</td>\n",
       "    </tr>\n",
       "    <tr>\n",
       "      <th>recall</th>\n",
       "      <td>0.0</td>\n",
       "      <td>0.574280</td>\n",
       "      <td>0.776479</td>\n",
       "      <td>0.258048</td>\n",
       "      <td>0.0</td>\n",
       "      <td>0.0</td>\n",
       "      <td>0.776186</td>\n",
       "      <td>0.465445</td>\n",
       "      <td>0.340713</td>\n",
       "      <td>0.465445</td>\n",
       "    </tr>\n",
       "    <tr>\n",
       "      <th>f1-score</th>\n",
       "      <td>0.0</td>\n",
       "      <td>0.466897</td>\n",
       "      <td>0.544096</td>\n",
       "      <td>0.324534</td>\n",
       "      <td>0.0</td>\n",
       "      <td>0.0</td>\n",
       "      <td>0.730467</td>\n",
       "      <td>0.465445</td>\n",
       "      <td>0.295142</td>\n",
       "      <td>0.398812</td>\n",
       "    </tr>\n",
       "    <tr>\n",
       "      <th>support</th>\n",
       "      <td>3421.0</td>\n",
       "      <td>6011.000000</td>\n",
       "      <td>4362.000000</td>\n",
       "      <td>3883.000000</td>\n",
       "      <td>9.0</td>\n",
       "      <td>2003.0</td>\n",
       "      <td>4258.000000</td>\n",
       "      <td>0.465445</td>\n",
       "      <td>23947.000000</td>\n",
       "      <td>23947.000000</td>\n",
       "    </tr>\n",
       "  </tbody>\n",
       "</table>\n",
       "</div>"
      ],
      "text/plain": [
       "                0            1            2            3    4       5  \\\n",
       "precision     0.0     0.393345     0.418769     0.437173  0.0     0.0   \n",
       "recall        0.0     0.574280     0.776479     0.258048  0.0     0.0   \n",
       "f1-score      0.0     0.466897     0.544096     0.324534  0.0     0.0   \n",
       "support    3421.0  6011.000000  4362.000000  3883.000000  9.0  2003.0   \n",
       "\n",
       "                     6  accuracy     macro avg  weighted avg  \n",
       "precision     0.689835  0.465445      0.277017      0.368561  \n",
       "recall        0.776186  0.465445      0.340713      0.465445  \n",
       "f1-score      0.730467  0.465445      0.295142      0.398812  \n",
       "support    4258.000000  0.465445  23947.000000  23947.000000  "
      ]
     },
     "metadata": {},
     "output_type": "display_data"
    }
   ],
   "source": [
    "print_score(DT_clf,X_train,y_train,X_test,y_test)"
   ]
  },
  {
   "cell_type": "markdown",
   "metadata": {},
   "source": [
    "## RandomForestClassifier"
   ]
  },
  {
   "cell_type": "code",
   "execution_count": 296,
   "metadata": {
    "ExecuteTime": {
     "end_time": "2021-08-18T15:13:22.770628Z",
     "start_time": "2021-08-18T15:02:48.904086Z"
    }
   },
   "outputs": [
    {
     "name": "stdout",
     "output_type": "stream",
     "text": [
      "Fitting 5 folds for each of 2304 candidates, totalling 11520 fits\n"
     ]
    },
    {
     "name": "stderr",
     "output_type": "stream",
     "text": [
      "[Parallel(n_jobs=-1)]: Using backend LokyBackend with 4 concurrent workers.\n",
      "[Parallel(n_jobs=-1)]: Done  42 tasks      | elapsed:    1.8s\n",
      "[Parallel(n_jobs=-1)]: Done 192 tasks      | elapsed:   10.3s\n",
      "[Parallel(n_jobs=-1)]: Done 442 tasks      | elapsed:   23.7s\n",
      "[Parallel(n_jobs=-1)]: Done 792 tasks      | elapsed:   41.3s\n",
      "[Parallel(n_jobs=-1)]: Done 1242 tasks      | elapsed:  1.1min\n",
      "[Parallel(n_jobs=-1)]: Done 1792 tasks      | elapsed:  1.6min\n",
      "[Parallel(n_jobs=-1)]: Done 2442 tasks      | elapsed:  2.1min\n",
      "[Parallel(n_jobs=-1)]: Done 3192 tasks      | elapsed:  2.8min\n",
      "[Parallel(n_jobs=-1)]: Done 4042 tasks      | elapsed:  3.5min\n",
      "[Parallel(n_jobs=-1)]: Done 4992 tasks      | elapsed:  4.4min\n",
      "[Parallel(n_jobs=-1)]: Done 6042 tasks      | elapsed:  5.4min\n",
      "[Parallel(n_jobs=-1)]: Done 7192 tasks      | elapsed:  6.3min\n",
      "[Parallel(n_jobs=-1)]: Done 8442 tasks      | elapsed:  7.5min\n",
      "[Parallel(n_jobs=-1)]: Done 9792 tasks      | elapsed:  8.8min\n",
      "[Parallel(n_jobs=-1)]: Done 11242 tasks      | elapsed: 10.3min\n",
      "[Parallel(n_jobs=-1)]: Done 11520 out of 11520 | elapsed: 10.5min finished\n"
     ]
    },
    {
     "name": "stdout",
     "output_type": "stream",
     "text": [
      "0.47679734312058136\n",
      "{'criterion': 'entropy', 'max_depth': 4, 'max_features': 'sqrt', 'min_samples_leaf': 1, 'min_samples_split': 3, 'n_estimators': 4}\n"
     ]
    }
   ],
   "source": [
    "from sklearn.ensemble import RandomForestClassifier\n",
    "from sklearn.model_selection import GridSearchCV\n",
    "from sklearn.metrics import make_scorer,f1_score,accuracy_score\n",
    "params={'n_estimators':range(1,5),\n",
    "       'criterion':['gini','entropy'],\n",
    "       'max_depth':range(1,5),\n",
    "       'min_samples_split':range(1,5),\n",
    "       'min_samples_leaf':range(1,10),\n",
    "       'max_features':['log2','sqrt']}\n",
    "grid_RF=GridSearchCV(RandomForestClassifier(),params,scoring=make_scorer(accuracy_score),cv=5,verbose=1,n_jobs=-1)\n",
    "grid_RF.fit(X_train,y_train)\n",
    "print(grid_RF.best_score_)\n",
    "print(grid_RF.best_params_)\n",
    "RF_clf=grid_RF.best_estimator_"
   ]
  },
  {
   "cell_type": "markdown",
   "metadata": {},
   "source": [
    "### Results"
   ]
  },
  {
   "cell_type": "code",
   "execution_count": 356,
   "metadata": {
    "ExecuteTime": {
     "end_time": "2021-08-20T15:16:29.010637Z",
     "start_time": "2021-08-20T15:16:27.635614Z"
    }
   },
   "outputs": [
    {
     "name": "stdout",
     "output_type": "stream",
     "text": [
      "Train data evaluation\n",
      "=====================================================================================================\n",
      "Train accuracy score:  0.45673212440101474\n",
      "\n",
      "Confusion Matrix:\n"
     ]
    },
    {
     "data": {
      "text/html": [
       "<div>\n",
       "<style scoped>\n",
       "    .dataframe tbody tr th:only-of-type {\n",
       "        vertical-align: middle;\n",
       "    }\n",
       "\n",
       "    .dataframe tbody tr th {\n",
       "        vertical-align: top;\n",
       "    }\n",
       "\n",
       "    .dataframe thead th {\n",
       "        text-align: right;\n",
       "    }\n",
       "</style>\n",
       "<table border=\"1\" class=\"dataframe\">\n",
       "  <thead>\n",
       "    <tr style=\"text-align: right;\">\n",
       "      <th></th>\n",
       "      <th>0</th>\n",
       "      <th>1</th>\n",
       "      <th>2</th>\n",
       "      <th>3</th>\n",
       "      <th>4</th>\n",
       "      <th>5</th>\n",
       "      <th>6</th>\n",
       "    </tr>\n",
       "  </thead>\n",
       "  <tbody>\n",
       "    <tr>\n",
       "      <th>0</th>\n",
       "      <td>0</td>\n",
       "      <td>7672</td>\n",
       "      <td>348</td>\n",
       "      <td>3991</td>\n",
       "      <td>0</td>\n",
       "      <td>0</td>\n",
       "      <td>2155</td>\n",
       "    </tr>\n",
       "    <tr>\n",
       "      <th>1</th>\n",
       "      <td>0</td>\n",
       "      <td>17717</td>\n",
       "      <td>2963</td>\n",
       "      <td>2361</td>\n",
       "      <td>0</td>\n",
       "      <td>0</td>\n",
       "      <td>660</td>\n",
       "    </tr>\n",
       "    <tr>\n",
       "      <th>2</th>\n",
       "      <td>0</td>\n",
       "      <td>10493</td>\n",
       "      <td>6719</td>\n",
       "      <td>263</td>\n",
       "      <td>0</td>\n",
       "      <td>0</td>\n",
       "      <td>87</td>\n",
       "    </tr>\n",
       "    <tr>\n",
       "      <th>3</th>\n",
       "      <td>0</td>\n",
       "      <td>4382</td>\n",
       "      <td>167</td>\n",
       "      <td>4561</td>\n",
       "      <td>0</td>\n",
       "      <td>0</td>\n",
       "      <td>6126</td>\n",
       "    </tr>\n",
       "    <tr>\n",
       "      <th>4</th>\n",
       "      <td>0</td>\n",
       "      <td>10</td>\n",
       "      <td>1</td>\n",
       "      <td>16</td>\n",
       "      <td>0</td>\n",
       "      <td>0</td>\n",
       "      <td>33</td>\n",
       "    </tr>\n",
       "    <tr>\n",
       "      <th>5</th>\n",
       "      <td>0</td>\n",
       "      <td>2765</td>\n",
       "      <td>5158</td>\n",
       "      <td>19</td>\n",
       "      <td>0</td>\n",
       "      <td>0</td>\n",
       "      <td>19</td>\n",
       "    </tr>\n",
       "    <tr>\n",
       "      <th>6</th>\n",
       "      <td>0</td>\n",
       "      <td>747</td>\n",
       "      <td>51</td>\n",
       "      <td>1551</td>\n",
       "      <td>0</td>\n",
       "      <td>0</td>\n",
       "      <td>14752</td>\n",
       "    </tr>\n",
       "  </tbody>\n",
       "</table>\n",
       "</div>"
      ],
      "text/plain": [
       "   0      1     2     3  4  5      6\n",
       "0  0   7672   348  3991  0  0   2155\n",
       "1  0  17717  2963  2361  0  0    660\n",
       "2  0  10493  6719   263  0  0     87\n",
       "3  0   4382   167  4561  0  0   6126\n",
       "4  0     10     1    16  0  0     33\n",
       "5  0   2765  5158    19  0  0     19\n",
       "6  0    747    51  1551  0  0  14752"
      ]
     },
     "metadata": {},
     "output_type": "display_data"
    },
    {
     "name": "stdout",
     "output_type": "stream",
     "text": [
      "\n",
      "Classification Report:\n"
     ]
    },
    {
     "data": {
      "text/html": [
       "<div>\n",
       "<style scoped>\n",
       "    .dataframe tbody tr th:only-of-type {\n",
       "        vertical-align: middle;\n",
       "    }\n",
       "\n",
       "    .dataframe tbody tr th {\n",
       "        vertical-align: top;\n",
       "    }\n",
       "\n",
       "    .dataframe thead th {\n",
       "        text-align: right;\n",
       "    }\n",
       "</style>\n",
       "<table border=\"1\" class=\"dataframe\">\n",
       "  <thead>\n",
       "    <tr style=\"text-align: right;\">\n",
       "      <th></th>\n",
       "      <th>0</th>\n",
       "      <th>1</th>\n",
       "      <th>2</th>\n",
       "      <th>3</th>\n",
       "      <th>4</th>\n",
       "      <th>5</th>\n",
       "      <th>6</th>\n",
       "      <th>accuracy</th>\n",
       "      <th>macro avg</th>\n",
       "      <th>weighted avg</th>\n",
       "    </tr>\n",
       "  </thead>\n",
       "  <tbody>\n",
       "    <tr>\n",
       "      <th>precision</th>\n",
       "      <td>0.0</td>\n",
       "      <td>0.404627</td>\n",
       "      <td>0.436100</td>\n",
       "      <td>0.357389</td>\n",
       "      <td>0.0</td>\n",
       "      <td>0.0</td>\n",
       "      <td>0.619000</td>\n",
       "      <td>0.456732</td>\n",
       "      <td>0.259588</td>\n",
       "      <td>0.347433</td>\n",
       "    </tr>\n",
       "    <tr>\n",
       "      <th>recall</th>\n",
       "      <td>0.0</td>\n",
       "      <td>0.747521</td>\n",
       "      <td>0.382587</td>\n",
       "      <td>0.299357</td>\n",
       "      <td>0.0</td>\n",
       "      <td>0.0</td>\n",
       "      <td>0.862640</td>\n",
       "      <td>0.456732</td>\n",
       "      <td>0.327444</td>\n",
       "      <td>0.456732</td>\n",
       "    </tr>\n",
       "    <tr>\n",
       "      <th>f1-score</th>\n",
       "      <td>0.0</td>\n",
       "      <td>0.525049</td>\n",
       "      <td>0.407595</td>\n",
       "      <td>0.325809</td>\n",
       "      <td>0.0</td>\n",
       "      <td>0.0</td>\n",
       "      <td>0.720788</td>\n",
       "      <td>0.456732</td>\n",
       "      <td>0.282749</td>\n",
       "      <td>0.385152</td>\n",
       "    </tr>\n",
       "    <tr>\n",
       "      <th>support</th>\n",
       "      <td>14166.0</td>\n",
       "      <td>23701.000000</td>\n",
       "      <td>17562.000000</td>\n",
       "      <td>15236.000000</td>\n",
       "      <td>60.0</td>\n",
       "      <td>7961.0</td>\n",
       "      <td>17101.000000</td>\n",
       "      <td>0.456732</td>\n",
       "      <td>95787.000000</td>\n",
       "      <td>95787.000000</td>\n",
       "    </tr>\n",
       "  </tbody>\n",
       "</table>\n",
       "</div>"
      ],
      "text/plain": [
       "                 0             1             2             3     4       5  \\\n",
       "precision      0.0      0.404627      0.436100      0.357389   0.0     0.0   \n",
       "recall         0.0      0.747521      0.382587      0.299357   0.0     0.0   \n",
       "f1-score       0.0      0.525049      0.407595      0.325809   0.0     0.0   \n",
       "support    14166.0  23701.000000  17562.000000  15236.000000  60.0  7961.0   \n",
       "\n",
       "                      6  accuracy     macro avg  weighted avg  \n",
       "precision      0.619000  0.456732      0.259588      0.347433  \n",
       "recall         0.862640  0.456732      0.327444      0.456732  \n",
       "f1-score       0.720788  0.456732      0.282749      0.385152  \n",
       "support    17101.000000  0.456732  95787.000000  95787.000000  "
      ]
     },
     "metadata": {},
     "output_type": "display_data"
    },
    {
     "name": "stdout",
     "output_type": "stream",
     "text": [
      "\n",
      "Test data evaluation\n",
      "=======================================================================================================\n",
      "Test accuracy score:  0.4573850586712323\n",
      "\n",
      "Confusion Matrix:\n"
     ]
    },
    {
     "data": {
      "text/html": [
       "<div>\n",
       "<style scoped>\n",
       "    .dataframe tbody tr th:only-of-type {\n",
       "        vertical-align: middle;\n",
       "    }\n",
       "\n",
       "    .dataframe tbody tr th {\n",
       "        vertical-align: top;\n",
       "    }\n",
       "\n",
       "    .dataframe thead th {\n",
       "        text-align: right;\n",
       "    }\n",
       "</style>\n",
       "<table border=\"1\" class=\"dataframe\">\n",
       "  <thead>\n",
       "    <tr style=\"text-align: right;\">\n",
       "      <th></th>\n",
       "      <th>0</th>\n",
       "      <th>1</th>\n",
       "      <th>2</th>\n",
       "      <th>3</th>\n",
       "      <th>4</th>\n",
       "      <th>5</th>\n",
       "      <th>6</th>\n",
       "    </tr>\n",
       "  </thead>\n",
       "  <tbody>\n",
       "    <tr>\n",
       "      <th>0</th>\n",
       "      <td>0</td>\n",
       "      <td>1883</td>\n",
       "      <td>67</td>\n",
       "      <td>961</td>\n",
       "      <td>0</td>\n",
       "      <td>0</td>\n",
       "      <td>510</td>\n",
       "    </tr>\n",
       "    <tr>\n",
       "      <th>1</th>\n",
       "      <td>0</td>\n",
       "      <td>4464</td>\n",
       "      <td>763</td>\n",
       "      <td>609</td>\n",
       "      <td>0</td>\n",
       "      <td>0</td>\n",
       "      <td>175</td>\n",
       "    </tr>\n",
       "    <tr>\n",
       "      <th>2</th>\n",
       "      <td>0</td>\n",
       "      <td>2629</td>\n",
       "      <td>1640</td>\n",
       "      <td>68</td>\n",
       "      <td>0</td>\n",
       "      <td>0</td>\n",
       "      <td>25</td>\n",
       "    </tr>\n",
       "    <tr>\n",
       "      <th>3</th>\n",
       "      <td>0</td>\n",
       "      <td>1077</td>\n",
       "      <td>32</td>\n",
       "      <td>1211</td>\n",
       "      <td>0</td>\n",
       "      <td>0</td>\n",
       "      <td>1563</td>\n",
       "    </tr>\n",
       "    <tr>\n",
       "      <th>4</th>\n",
       "      <td>0</td>\n",
       "      <td>1</td>\n",
       "      <td>0</td>\n",
       "      <td>5</td>\n",
       "      <td>0</td>\n",
       "      <td>0</td>\n",
       "      <td>3</td>\n",
       "    </tr>\n",
       "    <tr>\n",
       "      <th>5</th>\n",
       "      <td>0</td>\n",
       "      <td>696</td>\n",
       "      <td>1302</td>\n",
       "      <td>4</td>\n",
       "      <td>0</td>\n",
       "      <td>0</td>\n",
       "      <td>1</td>\n",
       "    </tr>\n",
       "    <tr>\n",
       "      <th>6</th>\n",
       "      <td>0</td>\n",
       "      <td>193</td>\n",
       "      <td>3</td>\n",
       "      <td>424</td>\n",
       "      <td>0</td>\n",
       "      <td>0</td>\n",
       "      <td>3638</td>\n",
       "    </tr>\n",
       "  </tbody>\n",
       "</table>\n",
       "</div>"
      ],
      "text/plain": [
       "   0     1     2     3  4  5     6\n",
       "0  0  1883    67   961  0  0   510\n",
       "1  0  4464   763   609  0  0   175\n",
       "2  0  2629  1640    68  0  0    25\n",
       "3  0  1077    32  1211  0  0  1563\n",
       "4  0     1     0     5  0  0     3\n",
       "5  0   696  1302     4  0  0     1\n",
       "6  0   193     3   424  0  0  3638"
      ]
     },
     "metadata": {},
     "output_type": "display_data"
    },
    {
     "name": "stdout",
     "output_type": "stream",
     "text": [
      "\n",
      "Classification Report:\n"
     ]
    },
    {
     "data": {
      "text/html": [
       "<div>\n",
       "<style scoped>\n",
       "    .dataframe tbody tr th:only-of-type {\n",
       "        vertical-align: middle;\n",
       "    }\n",
       "\n",
       "    .dataframe tbody tr th {\n",
       "        vertical-align: top;\n",
       "    }\n",
       "\n",
       "    .dataframe thead th {\n",
       "        text-align: right;\n",
       "    }\n",
       "</style>\n",
       "<table border=\"1\" class=\"dataframe\">\n",
       "  <thead>\n",
       "    <tr style=\"text-align: right;\">\n",
       "      <th></th>\n",
       "      <th>0</th>\n",
       "      <th>1</th>\n",
       "      <th>2</th>\n",
       "      <th>3</th>\n",
       "      <th>4</th>\n",
       "      <th>5</th>\n",
       "      <th>6</th>\n",
       "      <th>accuracy</th>\n",
       "      <th>macro avg</th>\n",
       "      <th>weighted avg</th>\n",
       "    </tr>\n",
       "  </thead>\n",
       "  <tbody>\n",
       "    <tr>\n",
       "      <th>precision</th>\n",
       "      <td>0.0</td>\n",
       "      <td>0.407932</td>\n",
       "      <td>0.430785</td>\n",
       "      <td>0.368982</td>\n",
       "      <td>0.0</td>\n",
       "      <td>0.0</td>\n",
       "      <td>0.615046</td>\n",
       "      <td>0.457385</td>\n",
       "      <td>0.260392</td>\n",
       "      <td>0.350056</td>\n",
       "    </tr>\n",
       "    <tr>\n",
       "      <th>recall</th>\n",
       "      <td>0.0</td>\n",
       "      <td>0.742638</td>\n",
       "      <td>0.375974</td>\n",
       "      <td>0.311872</td>\n",
       "      <td>0.0</td>\n",
       "      <td>0.0</td>\n",
       "      <td>0.854392</td>\n",
       "      <td>0.457385</td>\n",
       "      <td>0.326411</td>\n",
       "      <td>0.457385</td>\n",
       "    </tr>\n",
       "    <tr>\n",
       "      <th>f1-score</th>\n",
       "      <td>0.0</td>\n",
       "      <td>0.526601</td>\n",
       "      <td>0.401518</td>\n",
       "      <td>0.338032</td>\n",
       "      <td>0.0</td>\n",
       "      <td>0.0</td>\n",
       "      <td>0.715227</td>\n",
       "      <td>0.457385</td>\n",
       "      <td>0.283054</td>\n",
       "      <td>0.387307</td>\n",
       "    </tr>\n",
       "    <tr>\n",
       "      <th>support</th>\n",
       "      <td>3421.0</td>\n",
       "      <td>6011.000000</td>\n",
       "      <td>4362.000000</td>\n",
       "      <td>3883.000000</td>\n",
       "      <td>9.0</td>\n",
       "      <td>2003.0</td>\n",
       "      <td>4258.000000</td>\n",
       "      <td>0.457385</td>\n",
       "      <td>23947.000000</td>\n",
       "      <td>23947.000000</td>\n",
       "    </tr>\n",
       "  </tbody>\n",
       "</table>\n",
       "</div>"
      ],
      "text/plain": [
       "                0            1            2            3    4       5  \\\n",
       "precision     0.0     0.407932     0.430785     0.368982  0.0     0.0   \n",
       "recall        0.0     0.742638     0.375974     0.311872  0.0     0.0   \n",
       "f1-score      0.0     0.526601     0.401518     0.338032  0.0     0.0   \n",
       "support    3421.0  6011.000000  4362.000000  3883.000000  9.0  2003.0   \n",
       "\n",
       "                     6  accuracy     macro avg  weighted avg  \n",
       "precision     0.615046  0.457385      0.260392      0.350056  \n",
       "recall        0.854392  0.457385      0.326411      0.457385  \n",
       "f1-score      0.715227  0.457385      0.283054      0.387307  \n",
       "support    4258.000000  0.457385  23947.000000  23947.000000  "
      ]
     },
     "metadata": {},
     "output_type": "display_data"
    }
   ],
   "source": [
    "print_score(RF_clf,X_train,y_train,X_test,y_test)"
   ]
  },
  {
   "cell_type": "markdown",
   "metadata": {},
   "source": [
    "## Support Vector Machine"
   ]
  },
  {
   "cell_type": "code",
   "execution_count": 298,
   "metadata": {
    "ExecuteTime": {
     "end_time": "2021-08-18T15:21:42.287358Z",
     "start_time": "2021-08-18T15:13:47.478768Z"
    }
   },
   "outputs": [
    {
     "data": {
      "text/plain": [
       "SVC(C=1, gamma=0.01)"
      ]
     },
     "execution_count": 298,
     "metadata": {},
     "output_type": "execute_result"
    }
   ],
   "source": [
    "SVC_clf=SVC(C=1,gamma=0.01,kernel='rbf')\n",
    "SVC_clf.fit(X_train,y_train)"
   ]
  },
  {
   "cell_type": "markdown",
   "metadata": {},
   "source": [
    "### Results"
   ]
  },
  {
   "cell_type": "code",
   "execution_count": 357,
   "metadata": {
    "ExecuteTime": {
     "end_time": "2021-08-20T15:24:44.718658Z",
     "start_time": "2021-08-20T15:16:36.574140Z"
    },
    "scrolled": false
   },
   "outputs": [
    {
     "name": "stdout",
     "output_type": "stream",
     "text": [
      "Train data evaluation\n",
      "=====================================================================================================\n",
      "Train accuracy score:  0.5139423930178416\n",
      "\n",
      "Confusion Matrix:\n"
     ]
    },
    {
     "data": {
      "text/html": [
       "<div>\n",
       "<style scoped>\n",
       "    .dataframe tbody tr th:only-of-type {\n",
       "        vertical-align: middle;\n",
       "    }\n",
       "\n",
       "    .dataframe tbody tr th {\n",
       "        vertical-align: top;\n",
       "    }\n",
       "\n",
       "    .dataframe thead th {\n",
       "        text-align: right;\n",
       "    }\n",
       "</style>\n",
       "<table border=\"1\" class=\"dataframe\">\n",
       "  <thead>\n",
       "    <tr style=\"text-align: right;\">\n",
       "      <th></th>\n",
       "      <th>0</th>\n",
       "      <th>1</th>\n",
       "      <th>2</th>\n",
       "      <th>3</th>\n",
       "      <th>4</th>\n",
       "      <th>5</th>\n",
       "      <th>6</th>\n",
       "    </tr>\n",
       "  </thead>\n",
       "  <tbody>\n",
       "    <tr>\n",
       "      <th>0</th>\n",
       "      <td>1954</td>\n",
       "      <td>7340</td>\n",
       "      <td>442</td>\n",
       "      <td>3774</td>\n",
       "      <td>0</td>\n",
       "      <td>23</td>\n",
       "      <td>633</td>\n",
       "    </tr>\n",
       "    <tr>\n",
       "      <th>1</th>\n",
       "      <td>1282</td>\n",
       "      <td>16155</td>\n",
       "      <td>4311</td>\n",
       "      <td>1490</td>\n",
       "      <td>0</td>\n",
       "      <td>267</td>\n",
       "      <td>196</td>\n",
       "    </tr>\n",
       "    <tr>\n",
       "      <th>2</th>\n",
       "      <td>139</td>\n",
       "      <td>6528</td>\n",
       "      <td>9088</td>\n",
       "      <td>139</td>\n",
       "      <td>0</td>\n",
       "      <td>1621</td>\n",
       "      <td>47</td>\n",
       "    </tr>\n",
       "    <tr>\n",
       "      <th>3</th>\n",
       "      <td>1705</td>\n",
       "      <td>3843</td>\n",
       "      <td>223</td>\n",
       "      <td>6423</td>\n",
       "      <td>0</td>\n",
       "      <td>17</td>\n",
       "      <td>3025</td>\n",
       "    </tr>\n",
       "    <tr>\n",
       "      <th>4</th>\n",
       "      <td>4</td>\n",
       "      <td>6</td>\n",
       "      <td>1</td>\n",
       "      <td>20</td>\n",
       "      <td>0</td>\n",
       "      <td>0</td>\n",
       "      <td>29</td>\n",
       "    </tr>\n",
       "    <tr>\n",
       "      <th>5</th>\n",
       "      <td>11</td>\n",
       "      <td>778</td>\n",
       "      <td>4463</td>\n",
       "      <td>15</td>\n",
       "      <td>0</td>\n",
       "      <td>2680</td>\n",
       "      <td>14</td>\n",
       "    </tr>\n",
       "    <tr>\n",
       "      <th>6</th>\n",
       "      <td>297</td>\n",
       "      <td>605</td>\n",
       "      <td>46</td>\n",
       "      <td>3208</td>\n",
       "      <td>0</td>\n",
       "      <td>16</td>\n",
       "      <td>12929</td>\n",
       "    </tr>\n",
       "  </tbody>\n",
       "</table>\n",
       "</div>"
      ],
      "text/plain": [
       "      0      1     2     3  4     5      6\n",
       "0  1954   7340   442  3774  0    23    633\n",
       "1  1282  16155  4311  1490  0   267    196\n",
       "2   139   6528  9088   139  0  1621     47\n",
       "3  1705   3843   223  6423  0    17   3025\n",
       "4     4      6     1    20  0     0     29\n",
       "5    11    778  4463    15  0  2680     14\n",
       "6   297    605    46  3208  0    16  12929"
      ]
     },
     "metadata": {},
     "output_type": "display_data"
    },
    {
     "name": "stdout",
     "output_type": "stream",
     "text": [
      "\n",
      "Classification Report:\n"
     ]
    },
    {
     "data": {
      "text/html": [
       "<div>\n",
       "<style scoped>\n",
       "    .dataframe tbody tr th:only-of-type {\n",
       "        vertical-align: middle;\n",
       "    }\n",
       "\n",
       "    .dataframe tbody tr th {\n",
       "        vertical-align: top;\n",
       "    }\n",
       "\n",
       "    .dataframe thead th {\n",
       "        text-align: right;\n",
       "    }\n",
       "</style>\n",
       "<table border=\"1\" class=\"dataframe\">\n",
       "  <thead>\n",
       "    <tr style=\"text-align: right;\">\n",
       "      <th></th>\n",
       "      <th>0</th>\n",
       "      <th>1</th>\n",
       "      <th>2</th>\n",
       "      <th>3</th>\n",
       "      <th>4</th>\n",
       "      <th>5</th>\n",
       "      <th>6</th>\n",
       "      <th>accuracy</th>\n",
       "      <th>macro avg</th>\n",
       "      <th>weighted avg</th>\n",
       "    </tr>\n",
       "  </thead>\n",
       "  <tbody>\n",
       "    <tr>\n",
       "      <th>precision</th>\n",
       "      <td>0.362389</td>\n",
       "      <td>0.458233</td>\n",
       "      <td>0.489286</td>\n",
       "      <td>0.426239</td>\n",
       "      <td>0.0</td>\n",
       "      <td>0.579585</td>\n",
       "      <td>0.766254</td>\n",
       "      <td>0.513942</td>\n",
       "      <td>0.440284</td>\n",
       "      <td>0.509453</td>\n",
       "    </tr>\n",
       "    <tr>\n",
       "      <th>recall</th>\n",
       "      <td>0.137936</td>\n",
       "      <td>0.681617</td>\n",
       "      <td>0.517481</td>\n",
       "      <td>0.421567</td>\n",
       "      <td>0.0</td>\n",
       "      <td>0.336641</td>\n",
       "      <td>0.756038</td>\n",
       "      <td>0.513942</td>\n",
       "      <td>0.407326</td>\n",
       "      <td>0.513942</td>\n",
       "    </tr>\n",
       "    <tr>\n",
       "      <th>f1-score</th>\n",
       "      <td>0.199816</td>\n",
       "      <td>0.548036</td>\n",
       "      <td>0.502989</td>\n",
       "      <td>0.423890</td>\n",
       "      <td>0.0</td>\n",
       "      <td>0.425904</td>\n",
       "      <td>0.761111</td>\n",
       "      <td>0.513942</td>\n",
       "      <td>0.408821</td>\n",
       "      <td>0.496078</td>\n",
       "    </tr>\n",
       "    <tr>\n",
       "      <th>support</th>\n",
       "      <td>14166.000000</td>\n",
       "      <td>23701.000000</td>\n",
       "      <td>17562.000000</td>\n",
       "      <td>15236.000000</td>\n",
       "      <td>60.0</td>\n",
       "      <td>7961.000000</td>\n",
       "      <td>17101.000000</td>\n",
       "      <td>0.513942</td>\n",
       "      <td>95787.000000</td>\n",
       "      <td>95787.000000</td>\n",
       "    </tr>\n",
       "  </tbody>\n",
       "</table>\n",
       "</div>"
      ],
      "text/plain": [
       "                      0             1             2             3     4  \\\n",
       "precision      0.362389      0.458233      0.489286      0.426239   0.0   \n",
       "recall         0.137936      0.681617      0.517481      0.421567   0.0   \n",
       "f1-score       0.199816      0.548036      0.502989      0.423890   0.0   \n",
       "support    14166.000000  23701.000000  17562.000000  15236.000000  60.0   \n",
       "\n",
       "                     5             6  accuracy     macro avg  weighted avg  \n",
       "precision     0.579585      0.766254  0.513942      0.440284      0.509453  \n",
       "recall        0.336641      0.756038  0.513942      0.407326      0.513942  \n",
       "f1-score      0.425904      0.761111  0.513942      0.408821      0.496078  \n",
       "support    7961.000000  17101.000000  0.513942  95787.000000  95787.000000  "
      ]
     },
     "metadata": {},
     "output_type": "display_data"
    },
    {
     "name": "stdout",
     "output_type": "stream",
     "text": [
      "\n",
      "Test data evaluation\n",
      "=======================================================================================================\n",
      "Test accuracy score:  0.5143024178393953\n",
      "\n",
      "Confusion Matrix:\n"
     ]
    },
    {
     "data": {
      "text/html": [
       "<div>\n",
       "<style scoped>\n",
       "    .dataframe tbody tr th:only-of-type {\n",
       "        vertical-align: middle;\n",
       "    }\n",
       "\n",
       "    .dataframe tbody tr th {\n",
       "        vertical-align: top;\n",
       "    }\n",
       "\n",
       "    .dataframe thead th {\n",
       "        text-align: right;\n",
       "    }\n",
       "</style>\n",
       "<table border=\"1\" class=\"dataframe\">\n",
       "  <thead>\n",
       "    <tr style=\"text-align: right;\">\n",
       "      <th></th>\n",
       "      <th>0</th>\n",
       "      <th>1</th>\n",
       "      <th>2</th>\n",
       "      <th>3</th>\n",
       "      <th>4</th>\n",
       "      <th>5</th>\n",
       "      <th>6</th>\n",
       "    </tr>\n",
       "  </thead>\n",
       "  <tbody>\n",
       "    <tr>\n",
       "      <th>0</th>\n",
       "      <td>474</td>\n",
       "      <td>1789</td>\n",
       "      <td>97</td>\n",
       "      <td>900</td>\n",
       "      <td>0</td>\n",
       "      <td>7</td>\n",
       "      <td>154</td>\n",
       "    </tr>\n",
       "    <tr>\n",
       "      <th>1</th>\n",
       "      <td>304</td>\n",
       "      <td>4061</td>\n",
       "      <td>1112</td>\n",
       "      <td>404</td>\n",
       "      <td>0</td>\n",
       "      <td>74</td>\n",
       "      <td>56</td>\n",
       "    </tr>\n",
       "    <tr>\n",
       "      <th>2</th>\n",
       "      <td>29</td>\n",
       "      <td>1674</td>\n",
       "      <td>2225</td>\n",
       "      <td>33</td>\n",
       "      <td>0</td>\n",
       "      <td>388</td>\n",
       "      <td>13</td>\n",
       "    </tr>\n",
       "    <tr>\n",
       "      <th>3</th>\n",
       "      <td>383</td>\n",
       "      <td>1009</td>\n",
       "      <td>54</td>\n",
       "      <td>1659</td>\n",
       "      <td>0</td>\n",
       "      <td>4</td>\n",
       "      <td>774</td>\n",
       "    </tr>\n",
       "    <tr>\n",
       "      <th>4</th>\n",
       "      <td>1</td>\n",
       "      <td>1</td>\n",
       "      <td>0</td>\n",
       "      <td>4</td>\n",
       "      <td>0</td>\n",
       "      <td>0</td>\n",
       "      <td>3</td>\n",
       "    </tr>\n",
       "    <tr>\n",
       "      <th>5</th>\n",
       "      <td>0</td>\n",
       "      <td>172</td>\n",
       "      <td>1138</td>\n",
       "      <td>2</td>\n",
       "      <td>0</td>\n",
       "      <td>690</td>\n",
       "      <td>1</td>\n",
       "    </tr>\n",
       "    <tr>\n",
       "      <th>6</th>\n",
       "      <td>76</td>\n",
       "      <td>148</td>\n",
       "      <td>5</td>\n",
       "      <td>818</td>\n",
       "      <td>0</td>\n",
       "      <td>4</td>\n",
       "      <td>3207</td>\n",
       "    </tr>\n",
       "  </tbody>\n",
       "</table>\n",
       "</div>"
      ],
      "text/plain": [
       "     0     1     2     3  4    5     6\n",
       "0  474  1789    97   900  0    7   154\n",
       "1  304  4061  1112   404  0   74    56\n",
       "2   29  1674  2225    33  0  388    13\n",
       "3  383  1009    54  1659  0    4   774\n",
       "4    1     1     0     4  0    0     3\n",
       "5    0   172  1138     2  0  690     1\n",
       "6   76   148     5   818  0    4  3207"
      ]
     },
     "metadata": {},
     "output_type": "display_data"
    },
    {
     "name": "stdout",
     "output_type": "stream",
     "text": [
      "\n",
      "Classification Report:\n"
     ]
    },
    {
     "data": {
      "text/html": [
       "<div>\n",
       "<style scoped>\n",
       "    .dataframe tbody tr th:only-of-type {\n",
       "        vertical-align: middle;\n",
       "    }\n",
       "\n",
       "    .dataframe tbody tr th {\n",
       "        vertical-align: top;\n",
       "    }\n",
       "\n",
       "    .dataframe thead th {\n",
       "        text-align: right;\n",
       "    }\n",
       "</style>\n",
       "<table border=\"1\" class=\"dataframe\">\n",
       "  <thead>\n",
       "    <tr style=\"text-align: right;\">\n",
       "      <th></th>\n",
       "      <th>0</th>\n",
       "      <th>1</th>\n",
       "      <th>2</th>\n",
       "      <th>3</th>\n",
       "      <th>4</th>\n",
       "      <th>5</th>\n",
       "      <th>6</th>\n",
       "      <th>accuracy</th>\n",
       "      <th>macro avg</th>\n",
       "      <th>weighted avg</th>\n",
       "    </tr>\n",
       "  </thead>\n",
       "  <tbody>\n",
       "    <tr>\n",
       "      <th>precision</th>\n",
       "      <td>0.374112</td>\n",
       "      <td>0.458663</td>\n",
       "      <td>0.480458</td>\n",
       "      <td>0.434293</td>\n",
       "      <td>0.0</td>\n",
       "      <td>0.591260</td>\n",
       "      <td>0.762120</td>\n",
       "      <td>0.514302</td>\n",
       "      <td>0.442986</td>\n",
       "      <td>0.511478</td>\n",
       "    </tr>\n",
       "    <tr>\n",
       "      <th>recall</th>\n",
       "      <td>0.138556</td>\n",
       "      <td>0.675595</td>\n",
       "      <td>0.510087</td>\n",
       "      <td>0.427247</td>\n",
       "      <td>0.0</td>\n",
       "      <td>0.344483</td>\n",
       "      <td>0.753171</td>\n",
       "      <td>0.514302</td>\n",
       "      <td>0.407020</td>\n",
       "      <td>0.514302</td>\n",
       "    </tr>\n",
       "    <tr>\n",
       "      <th>f1-score</th>\n",
       "      <td>0.202218</td>\n",
       "      <td>0.546384</td>\n",
       "      <td>0.494829</td>\n",
       "      <td>0.430741</td>\n",
       "      <td>0.0</td>\n",
       "      <td>0.435331</td>\n",
       "      <td>0.757619</td>\n",
       "      <td>0.514302</td>\n",
       "      <td>0.409589</td>\n",
       "      <td>0.497141</td>\n",
       "    </tr>\n",
       "    <tr>\n",
       "      <th>support</th>\n",
       "      <td>3421.000000</td>\n",
       "      <td>6011.000000</td>\n",
       "      <td>4362.000000</td>\n",
       "      <td>3883.000000</td>\n",
       "      <td>9.0</td>\n",
       "      <td>2003.000000</td>\n",
       "      <td>4258.000000</td>\n",
       "      <td>0.514302</td>\n",
       "      <td>23947.000000</td>\n",
       "      <td>23947.000000</td>\n",
       "    </tr>\n",
       "  </tbody>\n",
       "</table>\n",
       "</div>"
      ],
      "text/plain": [
       "                     0            1            2            3    4  \\\n",
       "precision     0.374112     0.458663     0.480458     0.434293  0.0   \n",
       "recall        0.138556     0.675595     0.510087     0.427247  0.0   \n",
       "f1-score      0.202218     0.546384     0.494829     0.430741  0.0   \n",
       "support    3421.000000  6011.000000  4362.000000  3883.000000  9.0   \n",
       "\n",
       "                     5            6  accuracy     macro avg  weighted avg  \n",
       "precision     0.591260     0.762120  0.514302      0.442986      0.511478  \n",
       "recall        0.344483     0.753171  0.514302      0.407020      0.514302  \n",
       "f1-score      0.435331     0.757619  0.514302      0.409589      0.497141  \n",
       "support    2003.000000  4258.000000  0.514302  23947.000000  23947.000000  "
      ]
     },
     "metadata": {},
     "output_type": "display_data"
    }
   ],
   "source": [
    "print_score(SVC_clf,X_train,y_train,X_test,y_test)"
   ]
  },
  {
   "cell_type": "markdown",
   "metadata": {},
   "source": [
    "## AdaBoostClassifier"
   ]
  },
  {
   "cell_type": "code",
   "execution_count": 300,
   "metadata": {
    "ExecuteTime": {
     "end_time": "2021-08-18T15:42:16.648795Z",
     "start_time": "2021-08-18T15:31:59.042454Z"
    }
   },
   "outputs": [
    {
     "name": "stdout",
     "output_type": "stream",
     "text": [
      "Fitting 5 folds for each of 20 candidates, totalling 100 fits\n"
     ]
    },
    {
     "name": "stderr",
     "output_type": "stream",
     "text": [
      "[Parallel(n_jobs=-1)]: Using backend LokyBackend with 4 concurrent workers.\n",
      "[Parallel(n_jobs=-1)]: Done  42 tasks      | elapsed:  4.1min\n",
      "[Parallel(n_jobs=-1)]: Done 100 out of 100 | elapsed: 10.0min finished\n"
     ]
    },
    {
     "name": "stdout",
     "output_type": "stream",
     "text": [
      "0.48813506961173675\n",
      "{'learning_rate': 0.25, 'n_estimators': 150}\n"
     ]
    }
   ],
   "source": [
    "from sklearn.ensemble import AdaBoostClassifier\n",
    "params={'n_estimators':[50,100,150,200],\n",
    "        'learning_rate':[0.1,0.25,0.5,0.7,1]}\n",
    "grid_Ada=GridSearchCV(AdaBoostClassifier(),params,scoring=make_scorer(accuracy_score),cv=5,verbose=1,n_jobs=-1)\n",
    "grid_Ada.fit(X_train,y_train)\n",
    "print(grid_Ada.best_score_)\n",
    "print(grid_Ada.best_params_)\n",
    "Ada_clf=grid_Ada.best_estimator_"
   ]
  },
  {
   "cell_type": "markdown",
   "metadata": {},
   "source": [
    "### Results"
   ]
  },
  {
   "cell_type": "code",
   "execution_count": 361,
   "metadata": {
    "ExecuteTime": {
     "end_time": "2021-08-20T15:37:53.745778Z",
     "start_time": "2021-08-20T15:37:42.166350Z"
    }
   },
   "outputs": [
    {
     "name": "stdout",
     "output_type": "stream",
     "text": [
      "Train data evaluation\n",
      "=====================================================================================================\n",
      "Train accuracy score:  0.49195611095451364\n",
      "\n",
      "Confusion Matrix:\n"
     ]
    },
    {
     "data": {
      "text/html": [
       "<div>\n",
       "<style scoped>\n",
       "    .dataframe tbody tr th:only-of-type {\n",
       "        vertical-align: middle;\n",
       "    }\n",
       "\n",
       "    .dataframe tbody tr th {\n",
       "        vertical-align: top;\n",
       "    }\n",
       "\n",
       "    .dataframe thead th {\n",
       "        text-align: right;\n",
       "    }\n",
       "</style>\n",
       "<table border=\"1\" class=\"dataframe\">\n",
       "  <thead>\n",
       "    <tr style=\"text-align: right;\">\n",
       "      <th></th>\n",
       "      <th>0</th>\n",
       "      <th>1</th>\n",
       "      <th>2</th>\n",
       "      <th>3</th>\n",
       "      <th>4</th>\n",
       "      <th>5</th>\n",
       "      <th>6</th>\n",
       "    </tr>\n",
       "  </thead>\n",
       "  <tbody>\n",
       "    <tr>\n",
       "      <th>0</th>\n",
       "      <td>2659</td>\n",
       "      <td>6311</td>\n",
       "      <td>348</td>\n",
       "      <td>4016</td>\n",
       "      <td>3</td>\n",
       "      <td>36</td>\n",
       "      <td>793</td>\n",
       "    </tr>\n",
       "    <tr>\n",
       "      <th>1</th>\n",
       "      <td>2169</td>\n",
       "      <td>15949</td>\n",
       "      <td>3364</td>\n",
       "      <td>1720</td>\n",
       "      <td>1</td>\n",
       "      <td>273</td>\n",
       "      <td>225</td>\n",
       "    </tr>\n",
       "    <tr>\n",
       "      <th>2</th>\n",
       "      <td>291</td>\n",
       "      <td>7699</td>\n",
       "      <td>8766</td>\n",
       "      <td>155</td>\n",
       "      <td>3</td>\n",
       "      <td>598</td>\n",
       "      <td>50</td>\n",
       "    </tr>\n",
       "    <tr>\n",
       "      <th>3</th>\n",
       "      <td>2115</td>\n",
       "      <td>3226</td>\n",
       "      <td>171</td>\n",
       "      <td>6257</td>\n",
       "      <td>11</td>\n",
       "      <td>18</td>\n",
       "      <td>3438</td>\n",
       "    </tr>\n",
       "    <tr>\n",
       "      <th>4</th>\n",
       "      <td>4</td>\n",
       "      <td>6</td>\n",
       "      <td>1</td>\n",
       "      <td>18</td>\n",
       "      <td>1</td>\n",
       "      <td>0</td>\n",
       "      <td>30</td>\n",
       "    </tr>\n",
       "    <tr>\n",
       "      <th>5</th>\n",
       "      <td>22</td>\n",
       "      <td>1055</td>\n",
       "      <td>6509</td>\n",
       "      <td>16</td>\n",
       "      <td>0</td>\n",
       "      <td>345</td>\n",
       "      <td>14</td>\n",
       "    </tr>\n",
       "    <tr>\n",
       "      <th>6</th>\n",
       "      <td>403</td>\n",
       "      <td>523</td>\n",
       "      <td>49</td>\n",
       "      <td>2941</td>\n",
       "      <td>28</td>\n",
       "      <td>11</td>\n",
       "      <td>13146</td>\n",
       "    </tr>\n",
       "  </tbody>\n",
       "</table>\n",
       "</div>"
      ],
      "text/plain": [
       "      0      1     2     3   4    5      6\n",
       "0  2659   6311   348  4016   3   36    793\n",
       "1  2169  15949  3364  1720   1  273    225\n",
       "2   291   7699  8766   155   3  598     50\n",
       "3  2115   3226   171  6257  11   18   3438\n",
       "4     4      6     1    18   1    0     30\n",
       "5    22   1055  6509    16   0  345     14\n",
       "6   403    523    49  2941  28   11  13146"
      ]
     },
     "metadata": {},
     "output_type": "display_data"
    },
    {
     "name": "stdout",
     "output_type": "stream",
     "text": [
      "\n",
      "Classification Report:\n"
     ]
    },
    {
     "data": {
      "text/html": [
       "<div>\n",
       "<style scoped>\n",
       "    .dataframe tbody tr th:only-of-type {\n",
       "        vertical-align: middle;\n",
       "    }\n",
       "\n",
       "    .dataframe tbody tr th {\n",
       "        vertical-align: top;\n",
       "    }\n",
       "\n",
       "    .dataframe thead th {\n",
       "        text-align: right;\n",
       "    }\n",
       "</style>\n",
       "<table border=\"1\" class=\"dataframe\">\n",
       "  <thead>\n",
       "    <tr style=\"text-align: right;\">\n",
       "      <th></th>\n",
       "      <th>0</th>\n",
       "      <th>1</th>\n",
       "      <th>2</th>\n",
       "      <th>3</th>\n",
       "      <th>4</th>\n",
       "      <th>5</th>\n",
       "      <th>6</th>\n",
       "      <th>accuracy</th>\n",
       "      <th>macro avg</th>\n",
       "      <th>weighted avg</th>\n",
       "    </tr>\n",
       "  </thead>\n",
       "  <tbody>\n",
       "    <tr>\n",
       "      <th>precision</th>\n",
       "      <td>0.346992</td>\n",
       "      <td>0.458713</td>\n",
       "      <td>0.456372</td>\n",
       "      <td>0.413741</td>\n",
       "      <td>0.021277</td>\n",
       "      <td>0.269321</td>\n",
       "      <td>0.742880</td>\n",
       "      <td>0.491956</td>\n",
       "      <td>0.387042</td>\n",
       "      <td>0.469326</td>\n",
       "    </tr>\n",
       "    <tr>\n",
       "      <th>recall</th>\n",
       "      <td>0.187703</td>\n",
       "      <td>0.672925</td>\n",
       "      <td>0.499146</td>\n",
       "      <td>0.410672</td>\n",
       "      <td>0.016667</td>\n",
       "      <td>0.043336</td>\n",
       "      <td>0.768727</td>\n",
       "      <td>0.491956</td>\n",
       "      <td>0.371311</td>\n",
       "      <td>0.491956</td>\n",
       "    </tr>\n",
       "    <tr>\n",
       "      <th>f1-score</th>\n",
       "      <td>0.243621</td>\n",
       "      <td>0.545545</td>\n",
       "      <td>0.476802</td>\n",
       "      <td>0.412201</td>\n",
       "      <td>0.018692</td>\n",
       "      <td>0.074659</td>\n",
       "      <td>0.755582</td>\n",
       "      <td>0.491956</td>\n",
       "      <td>0.361014</td>\n",
       "      <td>0.465112</td>\n",
       "    </tr>\n",
       "    <tr>\n",
       "      <th>support</th>\n",
       "      <td>14166.000000</td>\n",
       "      <td>23701.000000</td>\n",
       "      <td>17562.000000</td>\n",
       "      <td>15236.000000</td>\n",
       "      <td>60.000000</td>\n",
       "      <td>7961.000000</td>\n",
       "      <td>17101.000000</td>\n",
       "      <td>0.491956</td>\n",
       "      <td>95787.000000</td>\n",
       "      <td>95787.000000</td>\n",
       "    </tr>\n",
       "  </tbody>\n",
       "</table>\n",
       "</div>"
      ],
      "text/plain": [
       "                      0             1             2             3          4  \\\n",
       "precision      0.346992      0.458713      0.456372      0.413741   0.021277   \n",
       "recall         0.187703      0.672925      0.499146      0.410672   0.016667   \n",
       "f1-score       0.243621      0.545545      0.476802      0.412201   0.018692   \n",
       "support    14166.000000  23701.000000  17562.000000  15236.000000  60.000000   \n",
       "\n",
       "                     5             6  accuracy     macro avg  weighted avg  \n",
       "precision     0.269321      0.742880  0.491956      0.387042      0.469326  \n",
       "recall        0.043336      0.768727  0.491956      0.371311      0.491956  \n",
       "f1-score      0.074659      0.755582  0.491956      0.361014      0.465112  \n",
       "support    7961.000000  17101.000000  0.491956  95787.000000  95787.000000  "
      ]
     },
     "metadata": {},
     "output_type": "display_data"
    },
    {
     "name": "stdout",
     "output_type": "stream",
     "text": [
      "\n",
      "Test data evaluation\n",
      "=======================================================================================================\n",
      "Test accuracy score:  0.49070864826491833\n",
      "\n",
      "Confusion Matrix:\n"
     ]
    },
    {
     "data": {
      "text/html": [
       "<div>\n",
       "<style scoped>\n",
       "    .dataframe tbody tr th:only-of-type {\n",
       "        vertical-align: middle;\n",
       "    }\n",
       "\n",
       "    .dataframe tbody tr th {\n",
       "        vertical-align: top;\n",
       "    }\n",
       "\n",
       "    .dataframe thead th {\n",
       "        text-align: right;\n",
       "    }\n",
       "</style>\n",
       "<table border=\"1\" class=\"dataframe\">\n",
       "  <thead>\n",
       "    <tr style=\"text-align: right;\">\n",
       "      <th></th>\n",
       "      <th>0</th>\n",
       "      <th>1</th>\n",
       "      <th>2</th>\n",
       "      <th>3</th>\n",
       "      <th>4</th>\n",
       "      <th>5</th>\n",
       "      <th>6</th>\n",
       "    </tr>\n",
       "  </thead>\n",
       "  <tbody>\n",
       "    <tr>\n",
       "      <th>0</th>\n",
       "      <td>623</td>\n",
       "      <td>1544</td>\n",
       "      <td>72</td>\n",
       "      <td>975</td>\n",
       "      <td>1</td>\n",
       "      <td>10</td>\n",
       "      <td>196</td>\n",
       "    </tr>\n",
       "    <tr>\n",
       "      <th>1</th>\n",
       "      <td>553</td>\n",
       "      <td>4048</td>\n",
       "      <td>838</td>\n",
       "      <td>436</td>\n",
       "      <td>3</td>\n",
       "      <td>71</td>\n",
       "      <td>62</td>\n",
       "    </tr>\n",
       "    <tr>\n",
       "      <th>2</th>\n",
       "      <td>85</td>\n",
       "      <td>1925</td>\n",
       "      <td>2155</td>\n",
       "      <td>37</td>\n",
       "      <td>0</td>\n",
       "      <td>147</td>\n",
       "      <td>13</td>\n",
       "    </tr>\n",
       "    <tr>\n",
       "      <th>3</th>\n",
       "      <td>548</td>\n",
       "      <td>827</td>\n",
       "      <td>35</td>\n",
       "      <td>1600</td>\n",
       "      <td>1</td>\n",
       "      <td>2</td>\n",
       "      <td>870</td>\n",
       "    </tr>\n",
       "    <tr>\n",
       "      <th>4</th>\n",
       "      <td>1</td>\n",
       "      <td>1</td>\n",
       "      <td>0</td>\n",
       "      <td>5</td>\n",
       "      <td>0</td>\n",
       "      <td>0</td>\n",
       "      <td>2</td>\n",
       "    </tr>\n",
       "    <tr>\n",
       "      <th>5</th>\n",
       "      <td>2</td>\n",
       "      <td>261</td>\n",
       "      <td>1663</td>\n",
       "      <td>2</td>\n",
       "      <td>0</td>\n",
       "      <td>74</td>\n",
       "      <td>1</td>\n",
       "    </tr>\n",
       "    <tr>\n",
       "      <th>6</th>\n",
       "      <td>109</td>\n",
       "      <td>132</td>\n",
       "      <td>7</td>\n",
       "      <td>749</td>\n",
       "      <td>10</td>\n",
       "      <td>0</td>\n",
       "      <td>3251</td>\n",
       "    </tr>\n",
       "  </tbody>\n",
       "</table>\n",
       "</div>"
      ],
      "text/plain": [
       "     0     1     2     3   4    5     6\n",
       "0  623  1544    72   975   1   10   196\n",
       "1  553  4048   838   436   3   71    62\n",
       "2   85  1925  2155    37   0  147    13\n",
       "3  548   827    35  1600   1    2   870\n",
       "4    1     1     0     5   0    0     2\n",
       "5    2   261  1663     2   0   74     1\n",
       "6  109   132     7   749  10    0  3251"
      ]
     },
     "metadata": {},
     "output_type": "display_data"
    },
    {
     "name": "stdout",
     "output_type": "stream",
     "text": [
      "\n",
      "Classification Report:\n"
     ]
    },
    {
     "data": {
      "text/html": [
       "<div>\n",
       "<style scoped>\n",
       "    .dataframe tbody tr th:only-of-type {\n",
       "        vertical-align: middle;\n",
       "    }\n",
       "\n",
       "    .dataframe tbody tr th {\n",
       "        vertical-align: top;\n",
       "    }\n",
       "\n",
       "    .dataframe thead th {\n",
       "        text-align: right;\n",
       "    }\n",
       "</style>\n",
       "<table border=\"1\" class=\"dataframe\">\n",
       "  <thead>\n",
       "    <tr style=\"text-align: right;\">\n",
       "      <th></th>\n",
       "      <th>0</th>\n",
       "      <th>1</th>\n",
       "      <th>2</th>\n",
       "      <th>3</th>\n",
       "      <th>4</th>\n",
       "      <th>5</th>\n",
       "      <th>6</th>\n",
       "      <th>accuracy</th>\n",
       "      <th>macro avg</th>\n",
       "      <th>weighted avg</th>\n",
       "    </tr>\n",
       "  </thead>\n",
       "  <tbody>\n",
       "    <tr>\n",
       "      <th>precision</th>\n",
       "      <td>0.324310</td>\n",
       "      <td>0.463264</td>\n",
       "      <td>0.451782</td>\n",
       "      <td>0.420610</td>\n",
       "      <td>0.0</td>\n",
       "      <td>0.243421</td>\n",
       "      <td>0.739704</td>\n",
       "      <td>0.490709</td>\n",
       "      <td>0.377584</td>\n",
       "      <td>0.464997</td>\n",
       "    </tr>\n",
       "    <tr>\n",
       "      <th>recall</th>\n",
       "      <td>0.182110</td>\n",
       "      <td>0.673432</td>\n",
       "      <td>0.494039</td>\n",
       "      <td>0.412053</td>\n",
       "      <td>0.0</td>\n",
       "      <td>0.036945</td>\n",
       "      <td>0.763504</td>\n",
       "      <td>0.490709</td>\n",
       "      <td>0.366012</td>\n",
       "      <td>0.490709</td>\n",
       "    </tr>\n",
       "    <tr>\n",
       "      <th>f1-score</th>\n",
       "      <td>0.233246</td>\n",
       "      <td>0.548919</td>\n",
       "      <td>0.471967</td>\n",
       "      <td>0.416287</td>\n",
       "      <td>0.0</td>\n",
       "      <td>0.064153</td>\n",
       "      <td>0.751416</td>\n",
       "      <td>0.490709</td>\n",
       "      <td>0.355141</td>\n",
       "      <td>0.463552</td>\n",
       "    </tr>\n",
       "    <tr>\n",
       "      <th>support</th>\n",
       "      <td>3421.000000</td>\n",
       "      <td>6011.000000</td>\n",
       "      <td>4362.000000</td>\n",
       "      <td>3883.000000</td>\n",
       "      <td>9.0</td>\n",
       "      <td>2003.000000</td>\n",
       "      <td>4258.000000</td>\n",
       "      <td>0.490709</td>\n",
       "      <td>23947.000000</td>\n",
       "      <td>23947.000000</td>\n",
       "    </tr>\n",
       "  </tbody>\n",
       "</table>\n",
       "</div>"
      ],
      "text/plain": [
       "                     0            1            2            3    4  \\\n",
       "precision     0.324310     0.463264     0.451782     0.420610  0.0   \n",
       "recall        0.182110     0.673432     0.494039     0.412053  0.0   \n",
       "f1-score      0.233246     0.548919     0.471967     0.416287  0.0   \n",
       "support    3421.000000  6011.000000  4362.000000  3883.000000  9.0   \n",
       "\n",
       "                     5            6  accuracy     macro avg  weighted avg  \n",
       "precision     0.243421     0.739704  0.490709      0.377584      0.464997  \n",
       "recall        0.036945     0.763504  0.490709      0.366012      0.490709  \n",
       "f1-score      0.064153     0.751416  0.490709      0.355141      0.463552  \n",
       "support    2003.000000  4258.000000  0.490709  23947.000000  23947.000000  "
      ]
     },
     "metadata": {},
     "output_type": "display_data"
    }
   ],
   "source": [
    "print_score(Ada_clf,X_train,y_train,X_test,y_test)"
   ]
  },
  {
   "cell_type": "markdown",
   "metadata": {},
   "source": [
    "## GradientBoostingClassifier"
   ]
  },
  {
   "cell_type": "code",
   "execution_count": null,
   "metadata": {
    "ExecuteTime": {
     "end_time": "2021-08-15T06:31:56.629266Z",
     "start_time": "2021-08-15T06:31:15.408527Z"
    },
    "scrolled": true
   },
   "outputs": [],
   "source": [
    "from sklearn.ensemble import GradientBoostingClassifier\n",
    "params={'n_estimators':[50,100,150,200],\n",
    "        'learning_rate':[0.1,0.25,0.5,0.7],\n",
    "       'subsample':[0.1,0.25,0.5,0.7],\n",
    "       'max_depth':range(1,5)}\n",
    "grid_GB=GridSearchCV(GradientBoostingClassifier(),params,scoring=make_scorer(accuracy_score),cv=5,verbose=1,n_jobs=-1)\n",
    "grid_GB.fit(X_train,y_train)\n",
    "print(grid_GB.best_score_)\n",
    "print(grid_GB.best_params_)\n",
    "GB_clf=grid_GB.best_estimator_"
   ]
  },
  {
   "cell_type": "code",
   "execution_count": 305,
   "metadata": {
    "ExecuteTime": {
     "end_time": "2021-08-18T15:45:39.605121Z",
     "start_time": "2021-08-18T15:45:19.242602Z"
    }
   },
   "outputs": [
    {
     "data": {
      "text/plain": [
       "GradientBoostingClassifier(max_depth=5, n_estimators=20, subsample=0.7)"
      ]
     },
     "execution_count": 305,
     "metadata": {},
     "output_type": "execute_result"
    }
   ],
   "source": [
    "GB_clf=GradientBoostingClassifier(n_estimators=20,learning_rate=0.1,max_depth=5,subsample=0.7)\n",
    "GB_clf.fit(X_train,y_train)"
   ]
  },
  {
   "cell_type": "markdown",
   "metadata": {},
   "source": [
    "### Results"
   ]
  },
  {
   "cell_type": "code",
   "execution_count": 362,
   "metadata": {
    "ExecuteTime": {
     "end_time": "2021-08-20T15:38:06.309093Z",
     "start_time": "2021-08-20T15:38:02.468920Z"
    }
   },
   "outputs": [
    {
     "name": "stdout",
     "output_type": "stream",
     "text": [
      "Train data evaluation\n",
      "=====================================================================================================\n",
      "Train accuracy score:  0.5192249470178626\n",
      "\n",
      "Confusion Matrix:\n"
     ]
    },
    {
     "data": {
      "text/html": [
       "<div>\n",
       "<style scoped>\n",
       "    .dataframe tbody tr th:only-of-type {\n",
       "        vertical-align: middle;\n",
       "    }\n",
       "\n",
       "    .dataframe tbody tr th {\n",
       "        vertical-align: top;\n",
       "    }\n",
       "\n",
       "    .dataframe thead th {\n",
       "        text-align: right;\n",
       "    }\n",
       "</style>\n",
       "<table border=\"1\" class=\"dataframe\">\n",
       "  <thead>\n",
       "    <tr style=\"text-align: right;\">\n",
       "      <th></th>\n",
       "      <th>0</th>\n",
       "      <th>1</th>\n",
       "      <th>2</th>\n",
       "      <th>3</th>\n",
       "      <th>4</th>\n",
       "      <th>5</th>\n",
       "      <th>6</th>\n",
       "    </tr>\n",
       "  </thead>\n",
       "  <tbody>\n",
       "    <tr>\n",
       "      <th>0</th>\n",
       "      <td>1363</td>\n",
       "      <td>7057</td>\n",
       "      <td>479</td>\n",
       "      <td>4472</td>\n",
       "      <td>16</td>\n",
       "      <td>32</td>\n",
       "      <td>747</td>\n",
       "    </tr>\n",
       "    <tr>\n",
       "      <th>1</th>\n",
       "      <td>925</td>\n",
       "      <td>15686</td>\n",
       "      <td>4544</td>\n",
       "      <td>1953</td>\n",
       "      <td>1</td>\n",
       "      <td>374</td>\n",
       "      <td>218</td>\n",
       "    </tr>\n",
       "    <tr>\n",
       "      <th>2</th>\n",
       "      <td>126</td>\n",
       "      <td>6015</td>\n",
       "      <td>9092</td>\n",
       "      <td>182</td>\n",
       "      <td>0</td>\n",
       "      <td>2099</td>\n",
       "      <td>48</td>\n",
       "    </tr>\n",
       "    <tr>\n",
       "      <th>3</th>\n",
       "      <td>1057</td>\n",
       "      <td>3682</td>\n",
       "      <td>238</td>\n",
       "      <td>6906</td>\n",
       "      <td>24</td>\n",
       "      <td>20</td>\n",
       "      <td>3309</td>\n",
       "    </tr>\n",
       "    <tr>\n",
       "      <th>4</th>\n",
       "      <td>2</td>\n",
       "      <td>7</td>\n",
       "      <td>1</td>\n",
       "      <td>19</td>\n",
       "      <td>3</td>\n",
       "      <td>0</td>\n",
       "      <td>28</td>\n",
       "    </tr>\n",
       "    <tr>\n",
       "      <th>5</th>\n",
       "      <td>9</td>\n",
       "      <td>691</td>\n",
       "      <td>3872</td>\n",
       "      <td>19</td>\n",
       "      <td>1</td>\n",
       "      <td>3355</td>\n",
       "      <td>14</td>\n",
       "    </tr>\n",
       "    <tr>\n",
       "      <th>6</th>\n",
       "      <td>191</td>\n",
       "      <td>592</td>\n",
       "      <td>46</td>\n",
       "      <td>2903</td>\n",
       "      <td>19</td>\n",
       "      <td>20</td>\n",
       "      <td>13330</td>\n",
       "    </tr>\n",
       "  </tbody>\n",
       "</table>\n",
       "</div>"
      ],
      "text/plain": [
       "      0      1     2     3   4     5      6\n",
       "0  1363   7057   479  4472  16    32    747\n",
       "1   925  15686  4544  1953   1   374    218\n",
       "2   126   6015  9092   182   0  2099     48\n",
       "3  1057   3682   238  6906  24    20   3309\n",
       "4     2      7     1    19   3     0     28\n",
       "5     9    691  3872    19   1  3355     14\n",
       "6   191    592    46  2903  19    20  13330"
      ]
     },
     "metadata": {},
     "output_type": "display_data"
    },
    {
     "name": "stdout",
     "output_type": "stream",
     "text": [
      "\n",
      "Classification Report:\n"
     ]
    },
    {
     "data": {
      "text/html": [
       "<div>\n",
       "<style scoped>\n",
       "    .dataframe tbody tr th:only-of-type {\n",
       "        vertical-align: middle;\n",
       "    }\n",
       "\n",
       "    .dataframe tbody tr th {\n",
       "        vertical-align: top;\n",
       "    }\n",
       "\n",
       "    .dataframe thead th {\n",
       "        text-align: right;\n",
       "    }\n",
       "</style>\n",
       "<table border=\"1\" class=\"dataframe\">\n",
       "  <thead>\n",
       "    <tr style=\"text-align: right;\">\n",
       "      <th></th>\n",
       "      <th>0</th>\n",
       "      <th>1</th>\n",
       "      <th>2</th>\n",
       "      <th>3</th>\n",
       "      <th>4</th>\n",
       "      <th>5</th>\n",
       "      <th>6</th>\n",
       "      <th>accuracy</th>\n",
       "      <th>macro avg</th>\n",
       "      <th>weighted avg</th>\n",
       "    </tr>\n",
       "  </thead>\n",
       "  <tbody>\n",
       "    <tr>\n",
       "      <th>precision</th>\n",
       "      <td>0.371086</td>\n",
       "      <td>0.465046</td>\n",
       "      <td>0.497592</td>\n",
       "      <td>0.419716</td>\n",
       "      <td>0.046875</td>\n",
       "      <td>0.568644</td>\n",
       "      <td>0.753363</td>\n",
       "      <td>0.519225</td>\n",
       "      <td>0.446046</td>\n",
       "      <td>0.509729</td>\n",
       "    </tr>\n",
       "    <tr>\n",
       "      <th>recall</th>\n",
       "      <td>0.096216</td>\n",
       "      <td>0.661829</td>\n",
       "      <td>0.517709</td>\n",
       "      <td>0.453269</td>\n",
       "      <td>0.050000</td>\n",
       "      <td>0.421429</td>\n",
       "      <td>0.779487</td>\n",
       "      <td>0.519225</td>\n",
       "      <td>0.425705</td>\n",
       "      <td>0.519225</td>\n",
       "    </tr>\n",
       "    <tr>\n",
       "      <th>f1-score</th>\n",
       "      <td>0.152811</td>\n",
       "      <td>0.546256</td>\n",
       "      <td>0.507451</td>\n",
       "      <td>0.435847</td>\n",
       "      <td>0.048387</td>\n",
       "      <td>0.484092</td>\n",
       "      <td>0.766202</td>\n",
       "      <td>0.519225</td>\n",
       "      <td>0.420149</td>\n",
       "      <td>0.497182</td>\n",
       "    </tr>\n",
       "    <tr>\n",
       "      <th>support</th>\n",
       "      <td>14166.000000</td>\n",
       "      <td>23701.000000</td>\n",
       "      <td>17562.000000</td>\n",
       "      <td>15236.000000</td>\n",
       "      <td>60.000000</td>\n",
       "      <td>7961.000000</td>\n",
       "      <td>17101.000000</td>\n",
       "      <td>0.519225</td>\n",
       "      <td>95787.000000</td>\n",
       "      <td>95787.000000</td>\n",
       "    </tr>\n",
       "  </tbody>\n",
       "</table>\n",
       "</div>"
      ],
      "text/plain": [
       "                      0             1             2             3          4  \\\n",
       "precision      0.371086      0.465046      0.497592      0.419716   0.046875   \n",
       "recall         0.096216      0.661829      0.517709      0.453269   0.050000   \n",
       "f1-score       0.152811      0.546256      0.507451      0.435847   0.048387   \n",
       "support    14166.000000  23701.000000  17562.000000  15236.000000  60.000000   \n",
       "\n",
       "                     5             6  accuracy     macro avg  weighted avg  \n",
       "precision     0.568644      0.753363  0.519225      0.446046      0.509729  \n",
       "recall        0.421429      0.779487  0.519225      0.425705      0.519225  \n",
       "f1-score      0.484092      0.766202  0.519225      0.420149      0.497182  \n",
       "support    7961.000000  17101.000000  0.519225  95787.000000  95787.000000  "
      ]
     },
     "metadata": {},
     "output_type": "display_data"
    },
    {
     "name": "stdout",
     "output_type": "stream",
     "text": [
      "\n",
      "Test data evaluation\n",
      "=======================================================================================================\n",
      "Test accuracy score:  0.5155551843654738\n",
      "\n",
      "Confusion Matrix:\n"
     ]
    },
    {
     "data": {
      "text/html": [
       "<div>\n",
       "<style scoped>\n",
       "    .dataframe tbody tr th:only-of-type {\n",
       "        vertical-align: middle;\n",
       "    }\n",
       "\n",
       "    .dataframe tbody tr th {\n",
       "        vertical-align: top;\n",
       "    }\n",
       "\n",
       "    .dataframe thead th {\n",
       "        text-align: right;\n",
       "    }\n",
       "</style>\n",
       "<table border=\"1\" class=\"dataframe\">\n",
       "  <thead>\n",
       "    <tr style=\"text-align: right;\">\n",
       "      <th></th>\n",
       "      <th>0</th>\n",
       "      <th>1</th>\n",
       "      <th>2</th>\n",
       "      <th>3</th>\n",
       "      <th>4</th>\n",
       "      <th>5</th>\n",
       "      <th>6</th>\n",
       "    </tr>\n",
       "  </thead>\n",
       "  <tbody>\n",
       "    <tr>\n",
       "      <th>0</th>\n",
       "      <td>313</td>\n",
       "      <td>1729</td>\n",
       "      <td>99</td>\n",
       "      <td>1081</td>\n",
       "      <td>3</td>\n",
       "      <td>14</td>\n",
       "      <td>182</td>\n",
       "    </tr>\n",
       "    <tr>\n",
       "      <th>1</th>\n",
       "      <td>215</td>\n",
       "      <td>3955</td>\n",
       "      <td>1150</td>\n",
       "      <td>526</td>\n",
       "      <td>1</td>\n",
       "      <td>106</td>\n",
       "      <td>58</td>\n",
       "    </tr>\n",
       "    <tr>\n",
       "      <th>2</th>\n",
       "      <td>24</td>\n",
       "      <td>1526</td>\n",
       "      <td>2233</td>\n",
       "      <td>46</td>\n",
       "      <td>0</td>\n",
       "      <td>521</td>\n",
       "      <td>12</td>\n",
       "    </tr>\n",
       "    <tr>\n",
       "      <th>3</th>\n",
       "      <td>280</td>\n",
       "      <td>973</td>\n",
       "      <td>49</td>\n",
       "      <td>1717</td>\n",
       "      <td>5</td>\n",
       "      <td>5</td>\n",
       "      <td>854</td>\n",
       "    </tr>\n",
       "    <tr>\n",
       "      <th>4</th>\n",
       "      <td>1</td>\n",
       "      <td>1</td>\n",
       "      <td>0</td>\n",
       "      <td>4</td>\n",
       "      <td>0</td>\n",
       "      <td>0</td>\n",
       "      <td>3</td>\n",
       "    </tr>\n",
       "    <tr>\n",
       "      <th>5</th>\n",
       "      <td>0</td>\n",
       "      <td>160</td>\n",
       "      <td>980</td>\n",
       "      <td>2</td>\n",
       "      <td>0</td>\n",
       "      <td>860</td>\n",
       "      <td>1</td>\n",
       "    </tr>\n",
       "    <tr>\n",
       "      <th>6</th>\n",
       "      <td>42</td>\n",
       "      <td>151</td>\n",
       "      <td>7</td>\n",
       "      <td>776</td>\n",
       "      <td>10</td>\n",
       "      <td>4</td>\n",
       "      <td>3268</td>\n",
       "    </tr>\n",
       "  </tbody>\n",
       "</table>\n",
       "</div>"
      ],
      "text/plain": [
       "     0     1     2     3   4    5     6\n",
       "0  313  1729    99  1081   3   14   182\n",
       "1  215  3955  1150   526   1  106    58\n",
       "2   24  1526  2233    46   0  521    12\n",
       "3  280   973    49  1717   5    5   854\n",
       "4    1     1     0     4   0    0     3\n",
       "5    0   160   980     2   0  860     1\n",
       "6   42   151     7   776  10    4  3268"
      ]
     },
     "metadata": {},
     "output_type": "display_data"
    },
    {
     "name": "stdout",
     "output_type": "stream",
     "text": [
      "\n",
      "Classification Report:\n"
     ]
    },
    {
     "data": {
      "text/html": [
       "<div>\n",
       "<style scoped>\n",
       "    .dataframe tbody tr th:only-of-type {\n",
       "        vertical-align: middle;\n",
       "    }\n",
       "\n",
       "    .dataframe tbody tr th {\n",
       "        vertical-align: top;\n",
       "    }\n",
       "\n",
       "    .dataframe thead th {\n",
       "        text-align: right;\n",
       "    }\n",
       "</style>\n",
       "<table border=\"1\" class=\"dataframe\">\n",
       "  <thead>\n",
       "    <tr style=\"text-align: right;\">\n",
       "      <th></th>\n",
       "      <th>0</th>\n",
       "      <th>1</th>\n",
       "      <th>2</th>\n",
       "      <th>3</th>\n",
       "      <th>4</th>\n",
       "      <th>5</th>\n",
       "      <th>6</th>\n",
       "      <th>accuracy</th>\n",
       "      <th>macro avg</th>\n",
       "      <th>weighted avg</th>\n",
       "    </tr>\n",
       "  </thead>\n",
       "  <tbody>\n",
       "    <tr>\n",
       "      <th>precision</th>\n",
       "      <td>0.357714</td>\n",
       "      <td>0.465568</td>\n",
       "      <td>0.494245</td>\n",
       "      <td>0.413536</td>\n",
       "      <td>0.0</td>\n",
       "      <td>0.569536</td>\n",
       "      <td>0.746460</td>\n",
       "      <td>0.515555</td>\n",
       "      <td>0.435294</td>\n",
       "      <td>0.505413</td>\n",
       "    </tr>\n",
       "    <tr>\n",
       "      <th>recall</th>\n",
       "      <td>0.091494</td>\n",
       "      <td>0.657960</td>\n",
       "      <td>0.511921</td>\n",
       "      <td>0.442184</td>\n",
       "      <td>0.0</td>\n",
       "      <td>0.429356</td>\n",
       "      <td>0.767496</td>\n",
       "      <td>0.515555</td>\n",
       "      <td>0.414345</td>\n",
       "      <td>0.515555</td>\n",
       "    </tr>\n",
       "    <tr>\n",
       "      <th>f1-score</th>\n",
       "      <td>0.145717</td>\n",
       "      <td>0.545292</td>\n",
       "      <td>0.502928</td>\n",
       "      <td>0.427380</td>\n",
       "      <td>0.0</td>\n",
       "      <td>0.489610</td>\n",
       "      <td>0.756832</td>\n",
       "      <td>0.515555</td>\n",
       "      <td>0.409680</td>\n",
       "      <td>0.494125</td>\n",
       "    </tr>\n",
       "    <tr>\n",
       "      <th>support</th>\n",
       "      <td>3421.000000</td>\n",
       "      <td>6011.000000</td>\n",
       "      <td>4362.000000</td>\n",
       "      <td>3883.000000</td>\n",
       "      <td>9.0</td>\n",
       "      <td>2003.000000</td>\n",
       "      <td>4258.000000</td>\n",
       "      <td>0.515555</td>\n",
       "      <td>23947.000000</td>\n",
       "      <td>23947.000000</td>\n",
       "    </tr>\n",
       "  </tbody>\n",
       "</table>\n",
       "</div>"
      ],
      "text/plain": [
       "                     0            1            2            3    4  \\\n",
       "precision     0.357714     0.465568     0.494245     0.413536  0.0   \n",
       "recall        0.091494     0.657960     0.511921     0.442184  0.0   \n",
       "f1-score      0.145717     0.545292     0.502928     0.427380  0.0   \n",
       "support    3421.000000  6011.000000  4362.000000  3883.000000  9.0   \n",
       "\n",
       "                     5            6  accuracy     macro avg  weighted avg  \n",
       "precision     0.569536     0.746460  0.515555      0.435294      0.505413  \n",
       "recall        0.429356     0.767496  0.515555      0.414345      0.515555  \n",
       "f1-score      0.489610     0.756832  0.515555      0.409680      0.494125  \n",
       "support    2003.000000  4258.000000  0.515555  23947.000000  23947.000000  "
      ]
     },
     "metadata": {},
     "output_type": "display_data"
    }
   ],
   "source": [
    "print_score(GB_clf,X_train,y_train,X_test,y_test)"
   ]
  },
  {
   "cell_type": "markdown",
   "metadata": {},
   "source": [
    "## XGBClassifier"
   ]
  },
  {
   "cell_type": "code",
   "execution_count": null,
   "metadata": {
    "ExecuteTime": {
     "end_time": "2021-08-15T12:43:59.063507Z",
     "start_time": "2021-08-15T06:39:48.775777Z"
    },
    "scrolled": true
   },
   "outputs": [],
   "source": [
    "from xgboost import XGBClassifier\n",
    "params={'n_estimators':[50,100,150,200],\n",
    "        'learning_rate':[0.1,0.25,0.5,0.7],\n",
    "       'subsample':[0.1,0.25,0.5,0.7],\n",
    "       'max_depth':range(1,5),\n",
    "       'colsample_bytree':[0.5,0.7]}\n",
    "grid_XGB=GridSearchCV(XGBClassifier(),params,scoring=make_scorer(accuracy_score),cv=5,verbose=1,n_jobs=-1)\n",
    "grid_XGB.fit(X_train,y_train)\n",
    "print(grid_XGB.best_score_)\n",
    "print(grid_XGB.best_params_)\n",
    "XGB_clf=grid_XGB.best_estimator_"
   ]
  },
  {
   "cell_type": "code",
   "execution_count": 319,
   "metadata": {
    "ExecuteTime": {
     "end_time": "2021-08-18T16:02:33.519019Z",
     "start_time": "2021-08-18T16:01:16.804376Z"
    }
   },
   "outputs": [
    {
     "name": "stdout",
     "output_type": "stream",
     "text": [
      "[21:31:17] WARNING: C:/Users/Administrator/workspace/xgboost-win64_release_1.4.0/src/learner.cc:1095: Starting in XGBoost 1.3.0, the default evaluation metric used with the objective 'multi:softprob' was changed from 'merror' to 'mlogloss'. Explicitly set eval_metric if you'd like to restore the old behavior.\n"
     ]
    },
    {
     "data": {
      "text/plain": [
       "XGBClassifier(base_score=0.5, booster='gbtree', colsample_bylevel=1,\n",
       "              colsample_bynode=1, colsample_bytree=0.7, gamma=0, gpu_id=-1,\n",
       "              importance_type='gain', interaction_constraints='',\n",
       "              learning_rate=0.1, max_delta_step=0, max_depth=5,\n",
       "              min_child_weight=1, missing=nan, monotone_constraints='()',\n",
       "              n_estimators=200, n_jobs=4, num_parallel_tree=1,\n",
       "              objective='multi:softprob', random_state=0, reg_alpha=0,\n",
       "              reg_lambda=1, scale_pos_weight=None, subsample=0.7,\n",
       "              tree_method='exact', validate_parameters=1, verbosity=None)"
      ]
     },
     "execution_count": 319,
     "metadata": {},
     "output_type": "execute_result"
    }
   ],
   "source": [
    "XGB_clf=XGBClassifier(n_estimators=200,learning_rate=0.1,max_depth=5,subsample=0.7,colsample_bytree=0.7)\n",
    "XGB_clf.fit(X_train,y_train)"
   ]
  },
  {
   "cell_type": "markdown",
   "metadata": {},
   "source": [
    "### Results"
   ]
  },
  {
   "cell_type": "code",
   "execution_count": 363,
   "metadata": {
    "ExecuteTime": {
     "end_time": "2021-08-20T15:38:35.162273Z",
     "start_time": "2021-08-20T15:38:29.063001Z"
    },
    "scrolled": false
   },
   "outputs": [
    {
     "name": "stdout",
     "output_type": "stream",
     "text": [
      "Train data evaluation\n",
      "=====================================================================================================\n",
      "Train accuracy score:  0.5280570432313362\n",
      "\n",
      "Confusion Matrix:\n"
     ]
    },
    {
     "data": {
      "text/html": [
       "<div>\n",
       "<style scoped>\n",
       "    .dataframe tbody tr th:only-of-type {\n",
       "        vertical-align: middle;\n",
       "    }\n",
       "\n",
       "    .dataframe tbody tr th {\n",
       "        vertical-align: top;\n",
       "    }\n",
       "\n",
       "    .dataframe thead th {\n",
       "        text-align: right;\n",
       "    }\n",
       "</style>\n",
       "<table border=\"1\" class=\"dataframe\">\n",
       "  <thead>\n",
       "    <tr style=\"text-align: right;\">\n",
       "      <th></th>\n",
       "      <th>0</th>\n",
       "      <th>1</th>\n",
       "      <th>2</th>\n",
       "      <th>3</th>\n",
       "      <th>4</th>\n",
       "      <th>5</th>\n",
       "      <th>6</th>\n",
       "    </tr>\n",
       "  </thead>\n",
       "  <tbody>\n",
       "    <tr>\n",
       "      <th>0</th>\n",
       "      <td>3132</td>\n",
       "      <td>6012</td>\n",
       "      <td>490</td>\n",
       "      <td>3770</td>\n",
       "      <td>0</td>\n",
       "      <td>33</td>\n",
       "      <td>729</td>\n",
       "    </tr>\n",
       "    <tr>\n",
       "      <th>1</th>\n",
       "      <td>2120</td>\n",
       "      <td>14759</td>\n",
       "      <td>4646</td>\n",
       "      <td>1553</td>\n",
       "      <td>0</td>\n",
       "      <td>403</td>\n",
       "      <td>220</td>\n",
       "    </tr>\n",
       "    <tr>\n",
       "      <th>2</th>\n",
       "      <td>239</td>\n",
       "      <td>5675</td>\n",
       "      <td>9309</td>\n",
       "      <td>147</td>\n",
       "      <td>0</td>\n",
       "      <td>2141</td>\n",
       "      <td>51</td>\n",
       "    </tr>\n",
       "    <tr>\n",
       "      <th>3</th>\n",
       "      <td>2263</td>\n",
       "      <td>2996</td>\n",
       "      <td>237</td>\n",
       "      <td>6586</td>\n",
       "      <td>0</td>\n",
       "      <td>21</td>\n",
       "      <td>3133</td>\n",
       "    </tr>\n",
       "    <tr>\n",
       "      <th>4</th>\n",
       "      <td>6</td>\n",
       "      <td>5</td>\n",
       "      <td>1</td>\n",
       "      <td>19</td>\n",
       "      <td>0</td>\n",
       "      <td>0</td>\n",
       "      <td>29</td>\n",
       "    </tr>\n",
       "    <tr>\n",
       "      <th>5</th>\n",
       "      <td>22</td>\n",
       "      <td>658</td>\n",
       "      <td>3760</td>\n",
       "      <td>16</td>\n",
       "      <td>0</td>\n",
       "      <td>3492</td>\n",
       "      <td>13</td>\n",
       "    </tr>\n",
       "    <tr>\n",
       "      <th>6</th>\n",
       "      <td>415</td>\n",
       "      <td>398</td>\n",
       "      <td>41</td>\n",
       "      <td>2925</td>\n",
       "      <td>0</td>\n",
       "      <td>19</td>\n",
       "      <td>13303</td>\n",
       "    </tr>\n",
       "  </tbody>\n",
       "</table>\n",
       "</div>"
      ],
      "text/plain": [
       "      0      1     2     3  4     5      6\n",
       "0  3132   6012   490  3770  0    33    729\n",
       "1  2120  14759  4646  1553  0   403    220\n",
       "2   239   5675  9309   147  0  2141     51\n",
       "3  2263   2996   237  6586  0    21   3133\n",
       "4     6      5     1    19  0     0     29\n",
       "5    22    658  3760    16  0  3492     13\n",
       "6   415    398    41  2925  0    19  13303"
      ]
     },
     "metadata": {},
     "output_type": "display_data"
    },
    {
     "name": "stdout",
     "output_type": "stream",
     "text": [
      "\n",
      "Classification Report:\n"
     ]
    },
    {
     "data": {
      "text/html": [
       "<div>\n",
       "<style scoped>\n",
       "    .dataframe tbody tr th:only-of-type {\n",
       "        vertical-align: middle;\n",
       "    }\n",
       "\n",
       "    .dataframe tbody tr th {\n",
       "        vertical-align: top;\n",
       "    }\n",
       "\n",
       "    .dataframe thead th {\n",
       "        text-align: right;\n",
       "    }\n",
       "</style>\n",
       "<table border=\"1\" class=\"dataframe\">\n",
       "  <thead>\n",
       "    <tr style=\"text-align: right;\">\n",
       "      <th></th>\n",
       "      <th>0</th>\n",
       "      <th>1</th>\n",
       "      <th>2</th>\n",
       "      <th>3</th>\n",
       "      <th>4</th>\n",
       "      <th>5</th>\n",
       "      <th>6</th>\n",
       "      <th>accuracy</th>\n",
       "      <th>macro avg</th>\n",
       "      <th>weighted avg</th>\n",
       "    </tr>\n",
       "  </thead>\n",
       "  <tbody>\n",
       "    <tr>\n",
       "      <th>precision</th>\n",
       "      <td>0.382091</td>\n",
       "      <td>0.483854</td>\n",
       "      <td>0.503625</td>\n",
       "      <td>0.438599</td>\n",
       "      <td>0.0</td>\n",
       "      <td>0.571616</td>\n",
       "      <td>0.761128</td>\n",
       "      <td>0.528057</td>\n",
       "      <td>0.448702</td>\n",
       "      <td>0.521724</td>\n",
       "    </tr>\n",
       "    <tr>\n",
       "      <th>recall</th>\n",
       "      <td>0.221093</td>\n",
       "      <td>0.622716</td>\n",
       "      <td>0.530065</td>\n",
       "      <td>0.432266</td>\n",
       "      <td>0.0</td>\n",
       "      <td>0.438638</td>\n",
       "      <td>0.777908</td>\n",
       "      <td>0.528057</td>\n",
       "      <td>0.431812</td>\n",
       "      <td>0.528057</td>\n",
       "    </tr>\n",
       "    <tr>\n",
       "      <th>f1-score</th>\n",
       "      <td>0.280106</td>\n",
       "      <td>0.544572</td>\n",
       "      <td>0.516507</td>\n",
       "      <td>0.435409</td>\n",
       "      <td>0.0</td>\n",
       "      <td>0.496375</td>\n",
       "      <td>0.769427</td>\n",
       "      <td>0.528057</td>\n",
       "      <td>0.434628</td>\n",
       "      <td>0.518748</td>\n",
       "    </tr>\n",
       "    <tr>\n",
       "      <th>support</th>\n",
       "      <td>14166.000000</td>\n",
       "      <td>23701.000000</td>\n",
       "      <td>17562.000000</td>\n",
       "      <td>15236.000000</td>\n",
       "      <td>60.0</td>\n",
       "      <td>7961.000000</td>\n",
       "      <td>17101.000000</td>\n",
       "      <td>0.528057</td>\n",
       "      <td>95787.000000</td>\n",
       "      <td>95787.000000</td>\n",
       "    </tr>\n",
       "  </tbody>\n",
       "</table>\n",
       "</div>"
      ],
      "text/plain": [
       "                      0             1             2             3     4  \\\n",
       "precision      0.382091      0.483854      0.503625      0.438599   0.0   \n",
       "recall         0.221093      0.622716      0.530065      0.432266   0.0   \n",
       "f1-score       0.280106      0.544572      0.516507      0.435409   0.0   \n",
       "support    14166.000000  23701.000000  17562.000000  15236.000000  60.0   \n",
       "\n",
       "                     5             6  accuracy     macro avg  weighted avg  \n",
       "precision     0.571616      0.761128  0.528057      0.448702      0.521724  \n",
       "recall        0.438638      0.777908  0.528057      0.431812      0.528057  \n",
       "f1-score      0.496375      0.769427  0.528057      0.434628      0.518748  \n",
       "support    7961.000000  17101.000000  0.528057  95787.000000  95787.000000  "
      ]
     },
     "metadata": {},
     "output_type": "display_data"
    },
    {
     "name": "stdout",
     "output_type": "stream",
     "text": [
      "\n",
      "Test data evaluation\n",
      "=======================================================================================================\n",
      "Test accuracy score:  0.5179354407650227\n",
      "\n",
      "Confusion Matrix:\n"
     ]
    },
    {
     "data": {
      "text/html": [
       "<div>\n",
       "<style scoped>\n",
       "    .dataframe tbody tr th:only-of-type {\n",
       "        vertical-align: middle;\n",
       "    }\n",
       "\n",
       "    .dataframe tbody tr th {\n",
       "        vertical-align: top;\n",
       "    }\n",
       "\n",
       "    .dataframe thead th {\n",
       "        text-align: right;\n",
       "    }\n",
       "</style>\n",
       "<table border=\"1\" class=\"dataframe\">\n",
       "  <thead>\n",
       "    <tr style=\"text-align: right;\">\n",
       "      <th></th>\n",
       "      <th>0</th>\n",
       "      <th>1</th>\n",
       "      <th>2</th>\n",
       "      <th>3</th>\n",
       "      <th>4</th>\n",
       "      <th>5</th>\n",
       "      <th>6</th>\n",
       "    </tr>\n",
       "  </thead>\n",
       "  <tbody>\n",
       "    <tr>\n",
       "      <th>0</th>\n",
       "      <td>725</td>\n",
       "      <td>1482</td>\n",
       "      <td>110</td>\n",
       "      <td>919</td>\n",
       "      <td>0</td>\n",
       "      <td>14</td>\n",
       "      <td>171</td>\n",
       "    </tr>\n",
       "    <tr>\n",
       "      <th>1</th>\n",
       "      <td>555</td>\n",
       "      <td>3662</td>\n",
       "      <td>1201</td>\n",
       "      <td>426</td>\n",
       "      <td>0</td>\n",
       "      <td>104</td>\n",
       "      <td>63</td>\n",
       "    </tr>\n",
       "    <tr>\n",
       "      <th>2</th>\n",
       "      <td>63</td>\n",
       "      <td>1469</td>\n",
       "      <td>2249</td>\n",
       "      <td>35</td>\n",
       "      <td>0</td>\n",
       "      <td>532</td>\n",
       "      <td>14</td>\n",
       "    </tr>\n",
       "    <tr>\n",
       "      <th>3</th>\n",
       "      <td>582</td>\n",
       "      <td>791</td>\n",
       "      <td>55</td>\n",
       "      <td>1641</td>\n",
       "      <td>0</td>\n",
       "      <td>4</td>\n",
       "      <td>810</td>\n",
       "    </tr>\n",
       "    <tr>\n",
       "      <th>4</th>\n",
       "      <td>0</td>\n",
       "      <td>1</td>\n",
       "      <td>0</td>\n",
       "      <td>5</td>\n",
       "      <td>0</td>\n",
       "      <td>0</td>\n",
       "      <td>3</td>\n",
       "    </tr>\n",
       "    <tr>\n",
       "      <th>5</th>\n",
       "      <td>1</td>\n",
       "      <td>146</td>\n",
       "      <td>972</td>\n",
       "      <td>2</td>\n",
       "      <td>0</td>\n",
       "      <td>881</td>\n",
       "      <td>1</td>\n",
       "    </tr>\n",
       "    <tr>\n",
       "      <th>6</th>\n",
       "      <td>111</td>\n",
       "      <td>100</td>\n",
       "      <td>6</td>\n",
       "      <td>792</td>\n",
       "      <td>0</td>\n",
       "      <td>4</td>\n",
       "      <td>3245</td>\n",
       "    </tr>\n",
       "  </tbody>\n",
       "</table>\n",
       "</div>"
      ],
      "text/plain": [
       "     0     1     2     3  4    5     6\n",
       "0  725  1482   110   919  0   14   171\n",
       "1  555  3662  1201   426  0  104    63\n",
       "2   63  1469  2249    35  0  532    14\n",
       "3  582   791    55  1641  0    4   810\n",
       "4    0     1     0     5  0    0     3\n",
       "5    1   146   972     2  0  881     1\n",
       "6  111   100     6   792  0    4  3245"
      ]
     },
     "metadata": {},
     "output_type": "display_data"
    },
    {
     "name": "stdout",
     "output_type": "stream",
     "text": [
      "\n",
      "Classification Report:\n"
     ]
    },
    {
     "data": {
      "text/html": [
       "<div>\n",
       "<style scoped>\n",
       "    .dataframe tbody tr th:only-of-type {\n",
       "        vertical-align: middle;\n",
       "    }\n",
       "\n",
       "    .dataframe tbody tr th {\n",
       "        vertical-align: top;\n",
       "    }\n",
       "\n",
       "    .dataframe thead th {\n",
       "        text-align: right;\n",
       "    }\n",
       "</style>\n",
       "<table border=\"1\" class=\"dataframe\">\n",
       "  <thead>\n",
       "    <tr style=\"text-align: right;\">\n",
       "      <th></th>\n",
       "      <th>0</th>\n",
       "      <th>1</th>\n",
       "      <th>2</th>\n",
       "      <th>3</th>\n",
       "      <th>4</th>\n",
       "      <th>5</th>\n",
       "      <th>6</th>\n",
       "      <th>accuracy</th>\n",
       "      <th>macro avg</th>\n",
       "      <th>weighted avg</th>\n",
       "    </tr>\n",
       "  </thead>\n",
       "  <tbody>\n",
       "    <tr>\n",
       "      <th>precision</th>\n",
       "      <td>0.355916</td>\n",
       "      <td>0.478630</td>\n",
       "      <td>0.489658</td>\n",
       "      <td>0.429581</td>\n",
       "      <td>0.0</td>\n",
       "      <td>0.572450</td>\n",
       "      <td>0.753425</td>\n",
       "      <td>0.517935</td>\n",
       "      <td>0.439951</td>\n",
       "      <td>0.511684</td>\n",
       "    </tr>\n",
       "    <tr>\n",
       "      <th>recall</th>\n",
       "      <td>0.211926</td>\n",
       "      <td>0.609216</td>\n",
       "      <td>0.515589</td>\n",
       "      <td>0.422611</td>\n",
       "      <td>0.0</td>\n",
       "      <td>0.439840</td>\n",
       "      <td>0.762095</td>\n",
       "      <td>0.517935</td>\n",
       "      <td>0.423040</td>\n",
       "      <td>0.517935</td>\n",
       "    </tr>\n",
       "    <tr>\n",
       "      <th>f1-score</th>\n",
       "      <td>0.265665</td>\n",
       "      <td>0.536085</td>\n",
       "      <td>0.502289</td>\n",
       "      <td>0.426068</td>\n",
       "      <td>0.0</td>\n",
       "      <td>0.497459</td>\n",
       "      <td>0.757735</td>\n",
       "      <td>0.517935</td>\n",
       "      <td>0.426472</td>\n",
       "      <td>0.509438</td>\n",
       "    </tr>\n",
       "    <tr>\n",
       "      <th>support</th>\n",
       "      <td>3421.000000</td>\n",
       "      <td>6011.000000</td>\n",
       "      <td>4362.000000</td>\n",
       "      <td>3883.000000</td>\n",
       "      <td>9.0</td>\n",
       "      <td>2003.000000</td>\n",
       "      <td>4258.000000</td>\n",
       "      <td>0.517935</td>\n",
       "      <td>23947.000000</td>\n",
       "      <td>23947.000000</td>\n",
       "    </tr>\n",
       "  </tbody>\n",
       "</table>\n",
       "</div>"
      ],
      "text/plain": [
       "                     0            1            2            3    4  \\\n",
       "precision     0.355916     0.478630     0.489658     0.429581  0.0   \n",
       "recall        0.211926     0.609216     0.515589     0.422611  0.0   \n",
       "f1-score      0.265665     0.536085     0.502289     0.426068  0.0   \n",
       "support    3421.000000  6011.000000  4362.000000  3883.000000  9.0   \n",
       "\n",
       "                     5            6  accuracy     macro avg  weighted avg  \n",
       "precision     0.572450     0.753425  0.517935      0.439951      0.511684  \n",
       "recall        0.439840     0.762095  0.517935      0.423040      0.517935  \n",
       "f1-score      0.497459     0.757735  0.517935      0.426472      0.509438  \n",
       "support    2003.000000  4258.000000  0.517935  23947.000000  23947.000000  "
      ]
     },
     "metadata": {},
     "output_type": "display_data"
    }
   ],
   "source": [
    "print_score(XGB_clf,X_train,y_train,X_test,y_test)"
   ]
  },
  {
   "cell_type": "markdown",
   "metadata": {},
   "source": [
    "## KNNeighborsClassifier"
   ]
  },
  {
   "cell_type": "code",
   "execution_count": 330,
   "metadata": {
    "ExecuteTime": {
     "end_time": "2021-08-19T15:14:17.923323Z",
     "start_time": "2021-08-19T15:11:44.757878Z"
    }
   },
   "outputs": [],
   "source": [
    "from sklearn.neighbors import KNeighborsClassifier\n",
    "score_lst=[]\n",
    "for i in range(2,21):\n",
    "    knn_clf=KNeighborsClassifier(n_neighbors=i)\n",
    "    knn_clf.fit(X_train,y_train)\n",
    "    score=knn_clf.score(X_train,y_train)\n",
    "    score_lst.append(score)"
   ]
  },
  {
   "cell_type": "code",
   "execution_count": 346,
   "metadata": {
    "ExecuteTime": {
     "end_time": "2021-08-19T16:10:42.132155Z",
     "start_time": "2021-08-19T16:10:41.653105Z"
    },
    "scrolled": true
   },
   "outputs": [
    {
     "name": "stdout",
     "output_type": "stream",
     "text": [
      "[0.47916731915604416, 0.5070938645118858, 0.5173040182905823, 0.5288191508242246, 0.5282345203420088, 0.535511081879587, 0.5375572885673421, 0.5386221512313779, 0.5417019010930502, 0.5407309968993704, 0.542453568855899, 0.5420777349744746, 0.5427458840970069, 0.5416183824527336, 0.5435497510100535, 0.5433618340693414, 0.543059078998194, 0.5428294027373234, 0.5423178510653847]\n"
     ]
    },
    {
     "data": {
      "text/plain": [
       "<AxesSubplot:>"
      ]
     },
     "execution_count": 346,
     "metadata": {},
     "output_type": "execute_result"
    },
    {
     "data": {
      "image/png": "[encoded data removed]",
      "text/plain": [
       "<Figure size 432x288 with 1 Axes>"
      ]
     },
     "metadata": {
      "needs_background": "light"
     },
     "output_type": "display_data"
    }
   ],
   "source": [
    "print(score_lst)\n",
    "sns.lineplot(x=range(2,21),y=score_lst,markers='*')"
   ]
  },
  {
   "cell_type": "code",
   "execution_count": 350,
   "metadata": {
    "ExecuteTime": {
     "end_time": "2021-08-20T15:10:06.889009Z",
     "start_time": "2021-08-20T15:10:05.472756Z"
    }
   },
   "outputs": [
    {
     "data": {
      "text/plain": [
       "KNeighborsClassifier(n_neighbors=10)"
      ]
     },
     "execution_count": 350,
     "metadata": {},
     "output_type": "execute_result"
    }
   ],
   "source": [
    "knn_clf=KNeighborsClassifier(n_neighbors=10)\n",
    "knn_clf.fit(X_train,y_train)"
   ]
  },
  {
   "cell_type": "markdown",
   "metadata": {},
   "source": [
    "### Results"
   ]
  },
  {
   "cell_type": "code",
   "execution_count": 364,
   "metadata": {
    "ExecuteTime": {
     "end_time": "2021-08-20T15:38:54.613488Z",
     "start_time": "2021-08-20T15:38:44.562348Z"
    }
   },
   "outputs": [
    {
     "name": "stdout",
     "output_type": "stream",
     "text": [
      "Train data evaluation\n",
      "=====================================================================================================\n",
      "Train accuracy score:  0.5417019010930502\n",
      "\n",
      "Confusion Matrix:\n"
     ]
    },
    {
     "data": {
      "text/html": [
       "<div>\n",
       "<style scoped>\n",
       "    .dataframe tbody tr th:only-of-type {\n",
       "        vertical-align: middle;\n",
       "    }\n",
       "\n",
       "    .dataframe tbody tr th {\n",
       "        vertical-align: top;\n",
       "    }\n",
       "\n",
       "    .dataframe thead th {\n",
       "        text-align: right;\n",
       "    }\n",
       "</style>\n",
       "<table border=\"1\" class=\"dataframe\">\n",
       "  <thead>\n",
       "    <tr style=\"text-align: right;\">\n",
       "      <th></th>\n",
       "      <th>0</th>\n",
       "      <th>1</th>\n",
       "      <th>2</th>\n",
       "      <th>3</th>\n",
       "      <th>4</th>\n",
       "      <th>5</th>\n",
       "      <th>6</th>\n",
       "    </tr>\n",
       "  </thead>\n",
       "  <tbody>\n",
       "    <tr>\n",
       "      <th>0</th>\n",
       "      <td>5502</td>\n",
       "      <td>4482</td>\n",
       "      <td>560</td>\n",
       "      <td>2744</td>\n",
       "      <td>0</td>\n",
       "      <td>54</td>\n",
       "      <td>824</td>\n",
       "    </tr>\n",
       "    <tr>\n",
       "      <th>1</th>\n",
       "      <td>3459</td>\n",
       "      <td>14244</td>\n",
       "      <td>3797</td>\n",
       "      <td>1424</td>\n",
       "      <td>0</td>\n",
       "      <td>498</td>\n",
       "      <td>279</td>\n",
       "    </tr>\n",
       "    <tr>\n",
       "      <th>2</th>\n",
       "      <td>668</td>\n",
       "      <td>5874</td>\n",
       "      <td>8943</td>\n",
       "      <td>167</td>\n",
       "      <td>0</td>\n",
       "      <td>1851</td>\n",
       "      <td>59</td>\n",
       "    </tr>\n",
       "    <tr>\n",
       "      <th>3</th>\n",
       "      <td>3256</td>\n",
       "      <td>2430</td>\n",
       "      <td>272</td>\n",
       "      <td>6597</td>\n",
       "      <td>0</td>\n",
       "      <td>35</td>\n",
       "      <td>2646</td>\n",
       "    </tr>\n",
       "    <tr>\n",
       "      <th>4</th>\n",
       "      <td>11</td>\n",
       "      <td>7</td>\n",
       "      <td>0</td>\n",
       "      <td>16</td>\n",
       "      <td>0</td>\n",
       "      <td>0</td>\n",
       "      <td>26</td>\n",
       "    </tr>\n",
       "    <tr>\n",
       "      <th>5</th>\n",
       "      <td>57</td>\n",
       "      <td>1051</td>\n",
       "      <td>3416</td>\n",
       "      <td>11</td>\n",
       "      <td>0</td>\n",
       "      <td>3417</td>\n",
       "      <td>9</td>\n",
       "    </tr>\n",
       "    <tr>\n",
       "      <th>6</th>\n",
       "      <td>846</td>\n",
       "      <td>394</td>\n",
       "      <td>40</td>\n",
       "      <td>2611</td>\n",
       "      <td>0</td>\n",
       "      <td>25</td>\n",
       "      <td>13185</td>\n",
       "    </tr>\n",
       "  </tbody>\n",
       "</table>\n",
       "</div>"
      ],
      "text/plain": [
       "      0      1     2     3  4     5      6\n",
       "0  5502   4482   560  2744  0    54    824\n",
       "1  3459  14244  3797  1424  0   498    279\n",
       "2   668   5874  8943   167  0  1851     59\n",
       "3  3256   2430   272  6597  0    35   2646\n",
       "4    11      7     0    16  0     0     26\n",
       "5    57   1051  3416    11  0  3417      9\n",
       "6   846    394    40  2611  0    25  13185"
      ]
     },
     "metadata": {},
     "output_type": "display_data"
    },
    {
     "name": "stdout",
     "output_type": "stream",
     "text": [
      "\n",
      "Classification Report:\n"
     ]
    },
    {
     "data": {
      "text/html": [
       "<div>\n",
       "<style scoped>\n",
       "    .dataframe tbody tr th:only-of-type {\n",
       "        vertical-align: middle;\n",
       "    }\n",
       "\n",
       "    .dataframe tbody tr th {\n",
       "        vertical-align: top;\n",
       "    }\n",
       "\n",
       "    .dataframe thead th {\n",
       "        text-align: right;\n",
       "    }\n",
       "</style>\n",
       "<table border=\"1\" class=\"dataframe\">\n",
       "  <thead>\n",
       "    <tr style=\"text-align: right;\">\n",
       "      <th></th>\n",
       "      <th>0</th>\n",
       "      <th>1</th>\n",
       "      <th>2</th>\n",
       "      <th>3</th>\n",
       "      <th>4</th>\n",
       "      <th>5</th>\n",
       "      <th>6</th>\n",
       "      <th>accuracy</th>\n",
       "      <th>macro avg</th>\n",
       "      <th>weighted avg</th>\n",
       "    </tr>\n",
       "  </thead>\n",
       "  <tbody>\n",
       "    <tr>\n",
       "      <th>precision</th>\n",
       "      <td>0.398725</td>\n",
       "      <td>0.500105</td>\n",
       "      <td>0.525194</td>\n",
       "      <td>0.486146</td>\n",
       "      <td>0.0</td>\n",
       "      <td>0.581122</td>\n",
       "      <td>0.774313</td>\n",
       "      <td>0.541702</td>\n",
       "      <td>0.466515</td>\n",
       "      <td>0.542866</td>\n",
       "    </tr>\n",
       "    <tr>\n",
       "      <th>recall</th>\n",
       "      <td>0.388395</td>\n",
       "      <td>0.600987</td>\n",
       "      <td>0.509224</td>\n",
       "      <td>0.432988</td>\n",
       "      <td>0.0</td>\n",
       "      <td>0.429217</td>\n",
       "      <td>0.771008</td>\n",
       "      <td>0.541702</td>\n",
       "      <td>0.447403</td>\n",
       "      <td>0.541702</td>\n",
       "    </tr>\n",
       "    <tr>\n",
       "      <th>f1-score</th>\n",
       "      <td>0.393492</td>\n",
       "      <td>0.545925</td>\n",
       "      <td>0.517086</td>\n",
       "      <td>0.458030</td>\n",
       "      <td>0.0</td>\n",
       "      <td>0.493750</td>\n",
       "      <td>0.772657</td>\n",
       "      <td>0.541702</td>\n",
       "      <td>0.454420</td>\n",
       "      <td>0.539914</td>\n",
       "    </tr>\n",
       "    <tr>\n",
       "      <th>support</th>\n",
       "      <td>14166.000000</td>\n",
       "      <td>23701.000000</td>\n",
       "      <td>17562.000000</td>\n",
       "      <td>15236.000000</td>\n",
       "      <td>60.0</td>\n",
       "      <td>7961.000000</td>\n",
       "      <td>17101.000000</td>\n",
       "      <td>0.541702</td>\n",
       "      <td>95787.000000</td>\n",
       "      <td>95787.000000</td>\n",
       "    </tr>\n",
       "  </tbody>\n",
       "</table>\n",
       "</div>"
      ],
      "text/plain": [
       "                      0             1             2             3     4  \\\n",
       "precision      0.398725      0.500105      0.525194      0.486146   0.0   \n",
       "recall         0.388395      0.600987      0.509224      0.432988   0.0   \n",
       "f1-score       0.393492      0.545925      0.517086      0.458030   0.0   \n",
       "support    14166.000000  23701.000000  17562.000000  15236.000000  60.0   \n",
       "\n",
       "                     5             6  accuracy     macro avg  weighted avg  \n",
       "precision     0.581122      0.774313  0.541702      0.466515      0.542866  \n",
       "recall        0.429217      0.771008  0.541702      0.447403      0.541702  \n",
       "f1-score      0.493750      0.772657  0.541702      0.454420      0.539914  \n",
       "support    7961.000000  17101.000000  0.541702  95787.000000  95787.000000  "
      ]
     },
     "metadata": {},
     "output_type": "display_data"
    },
    {
     "name": "stdout",
     "output_type": "stream",
     "text": [
      "\n",
      "Test data evaluation\n",
      "=======================================================================================================\n",
      "Test accuracy score:  0.4964296154006765\n",
      "\n",
      "Confusion Matrix:\n"
     ]
    },
    {
     "data": {
      "text/html": [
       "<div>\n",
       "<style scoped>\n",
       "    .dataframe tbody tr th:only-of-type {\n",
       "        vertical-align: middle;\n",
       "    }\n",
       "\n",
       "    .dataframe tbody tr th {\n",
       "        vertical-align: top;\n",
       "    }\n",
       "\n",
       "    .dataframe thead th {\n",
       "        text-align: right;\n",
       "    }\n",
       "</style>\n",
       "<table border=\"1\" class=\"dataframe\">\n",
       "  <thead>\n",
       "    <tr style=\"text-align: right;\">\n",
       "      <th></th>\n",
       "      <th>0</th>\n",
       "      <th>1</th>\n",
       "      <th>2</th>\n",
       "      <th>3</th>\n",
       "      <th>4</th>\n",
       "      <th>5</th>\n",
       "      <th>6</th>\n",
       "    </tr>\n",
       "  </thead>\n",
       "  <tbody>\n",
       "    <tr>\n",
       "      <th>0</th>\n",
       "      <td>1138</td>\n",
       "      <td>1154</td>\n",
       "      <td>153</td>\n",
       "      <td>736</td>\n",
       "      <td>0</td>\n",
       "      <td>16</td>\n",
       "      <td>224</td>\n",
       "    </tr>\n",
       "    <tr>\n",
       "      <th>1</th>\n",
       "      <td>970</td>\n",
       "      <td>3380</td>\n",
       "      <td>1075</td>\n",
       "      <td>389</td>\n",
       "      <td>0</td>\n",
       "      <td>122</td>\n",
       "      <td>75</td>\n",
       "    </tr>\n",
       "    <tr>\n",
       "      <th>2</th>\n",
       "      <td>161</td>\n",
       "      <td>1597</td>\n",
       "      <td>1998</td>\n",
       "      <td>57</td>\n",
       "      <td>0</td>\n",
       "      <td>534</td>\n",
       "      <td>15</td>\n",
       "    </tr>\n",
       "    <tr>\n",
       "      <th>3</th>\n",
       "      <td>940</td>\n",
       "      <td>660</td>\n",
       "      <td>65</td>\n",
       "      <td>1449</td>\n",
       "      <td>0</td>\n",
       "      <td>6</td>\n",
       "      <td>763</td>\n",
       "    </tr>\n",
       "    <tr>\n",
       "      <th>4</th>\n",
       "      <td>3</td>\n",
       "      <td>0</td>\n",
       "      <td>0</td>\n",
       "      <td>4</td>\n",
       "      <td>0</td>\n",
       "      <td>0</td>\n",
       "      <td>2</td>\n",
       "    </tr>\n",
       "    <tr>\n",
       "      <th>5</th>\n",
       "      <td>11</td>\n",
       "      <td>241</td>\n",
       "      <td>971</td>\n",
       "      <td>2</td>\n",
       "      <td>0</td>\n",
       "      <td>777</td>\n",
       "      <td>1</td>\n",
       "    </tr>\n",
       "    <tr>\n",
       "      <th>6</th>\n",
       "      <td>235</td>\n",
       "      <td>106</td>\n",
       "      <td>6</td>\n",
       "      <td>761</td>\n",
       "      <td>0</td>\n",
       "      <td>4</td>\n",
       "      <td>3146</td>\n",
       "    </tr>\n",
       "  </tbody>\n",
       "</table>\n",
       "</div>"
      ],
      "text/plain": [
       "      0     1     2     3  4    5     6\n",
       "0  1138  1154   153   736  0   16   224\n",
       "1   970  3380  1075   389  0  122    75\n",
       "2   161  1597  1998    57  0  534    15\n",
       "3   940   660    65  1449  0    6   763\n",
       "4     3     0     0     4  0    0     2\n",
       "5    11   241   971     2  0  777     1\n",
       "6   235   106     6   761  0    4  3146"
      ]
     },
     "metadata": {},
     "output_type": "display_data"
    },
    {
     "name": "stdout",
     "output_type": "stream",
     "text": [
      "\n",
      "Classification Report:\n"
     ]
    },
    {
     "data": {
      "text/html": [
       "<div>\n",
       "<style scoped>\n",
       "    .dataframe tbody tr th:only-of-type {\n",
       "        vertical-align: middle;\n",
       "    }\n",
       "\n",
       "    .dataframe tbody tr th {\n",
       "        vertical-align: top;\n",
       "    }\n",
       "\n",
       "    .dataframe thead th {\n",
       "        text-align: right;\n",
       "    }\n",
       "</style>\n",
       "<table border=\"1\" class=\"dataframe\">\n",
       "  <thead>\n",
       "    <tr style=\"text-align: right;\">\n",
       "      <th></th>\n",
       "      <th>0</th>\n",
       "      <th>1</th>\n",
       "      <th>2</th>\n",
       "      <th>3</th>\n",
       "      <th>4</th>\n",
       "      <th>5</th>\n",
       "      <th>6</th>\n",
       "      <th>accuracy</th>\n",
       "      <th>macro avg</th>\n",
       "      <th>weighted avg</th>\n",
       "    </tr>\n",
       "  </thead>\n",
       "  <tbody>\n",
       "    <tr>\n",
       "      <th>precision</th>\n",
       "      <td>0.329092</td>\n",
       "      <td>0.473522</td>\n",
       "      <td>0.468135</td>\n",
       "      <td>0.426427</td>\n",
       "      <td>0.0</td>\n",
       "      <td>0.532557</td>\n",
       "      <td>0.744439</td>\n",
       "      <td>0.49643</td>\n",
       "      <td>0.424882</td>\n",
       "      <td>0.497203</td>\n",
       "    </tr>\n",
       "    <tr>\n",
       "      <th>recall</th>\n",
       "      <td>0.332651</td>\n",
       "      <td>0.562302</td>\n",
       "      <td>0.458047</td>\n",
       "      <td>0.373165</td>\n",
       "      <td>0.0</td>\n",
       "      <td>0.387918</td>\n",
       "      <td>0.738845</td>\n",
       "      <td>0.49643</td>\n",
       "      <td>0.407561</td>\n",
       "      <td>0.496430</td>\n",
       "    </tr>\n",
       "    <tr>\n",
       "      <th>f1-score</th>\n",
       "      <td>0.330862</td>\n",
       "      <td>0.514108</td>\n",
       "      <td>0.463036</td>\n",
       "      <td>0.398022</td>\n",
       "      <td>0.0</td>\n",
       "      <td>0.448873</td>\n",
       "      <td>0.741631</td>\n",
       "      <td>0.49643</td>\n",
       "      <td>0.413790</td>\n",
       "      <td>0.494610</td>\n",
       "    </tr>\n",
       "    <tr>\n",
       "      <th>support</th>\n",
       "      <td>3421.000000</td>\n",
       "      <td>6011.000000</td>\n",
       "      <td>4362.000000</td>\n",
       "      <td>3883.000000</td>\n",
       "      <td>9.0</td>\n",
       "      <td>2003.000000</td>\n",
       "      <td>4258.000000</td>\n",
       "      <td>0.49643</td>\n",
       "      <td>23947.000000</td>\n",
       "      <td>23947.000000</td>\n",
       "    </tr>\n",
       "  </tbody>\n",
       "</table>\n",
       "</div>"
      ],
      "text/plain": [
       "                     0            1            2            3    4  \\\n",
       "precision     0.329092     0.473522     0.468135     0.426427  0.0   \n",
       "recall        0.332651     0.562302     0.458047     0.373165  0.0   \n",
       "f1-score      0.330862     0.514108     0.463036     0.398022  0.0   \n",
       "support    3421.000000  6011.000000  4362.000000  3883.000000  9.0   \n",
       "\n",
       "                     5            6  accuracy     macro avg  weighted avg  \n",
       "precision     0.532557     0.744439   0.49643      0.424882      0.497203  \n",
       "recall        0.387918     0.738845   0.49643      0.407561      0.496430  \n",
       "f1-score      0.448873     0.741631   0.49643      0.413790      0.494610  \n",
       "support    2003.000000  4258.000000   0.49643  23947.000000  23947.000000  "
      ]
     },
     "metadata": {},
     "output_type": "display_data"
    }
   ],
   "source": [
    "print_score(knn_clf,X_train,y_train,X_test,y_test)"
   ]
  },
  {
   "cell_type": "markdown",
   "metadata": {},
   "source": [
    "## Observations"
   ]
  },
  {
   "cell_type": "code",
   "execution_count": 367,
   "metadata": {
    "ExecuteTime": {
     "end_time": "2021-08-20T15:54:47.058261Z",
     "start_time": "2021-08-20T15:54:46.954272Z"
    },
    "scrolled": true
   },
   "outputs": [
    {
     "data": {
      "text/html": [
       "<div>\n",
       "<style scoped>\n",
       "    .dataframe tbody tr th:only-of-type {\n",
       "        vertical-align: middle;\n",
       "    }\n",
       "\n",
       "    .dataframe tbody tr th {\n",
       "        vertical-align: top;\n",
       "    }\n",
       "\n",
       "    .dataframe thead th {\n",
       "        text-align: right;\n",
       "    }\n",
       "</style>\n",
       "<table border=\"1\" class=\"dataframe\">\n",
       "  <thead>\n",
       "    <tr style=\"text-align: right;\">\n",
       "      <th></th>\n",
       "      <th>models</th>\n",
       "      <th>Train_score</th>\n",
       "      <th>Test_score</th>\n",
       "    </tr>\n",
       "  </thead>\n",
       "  <tbody>\n",
       "    <tr>\n",
       "      <th>0</th>\n",
       "      <td>DecisionTreeClassifier</td>\n",
       "      <td>0.464760</td>\n",
       "      <td>0.465445</td>\n",
       "    </tr>\n",
       "    <tr>\n",
       "      <th>1</th>\n",
       "      <td>RandomForestClassifier</td>\n",
       "      <td>0.456732</td>\n",
       "      <td>0.457385</td>\n",
       "    </tr>\n",
       "    <tr>\n",
       "      <th>2</th>\n",
       "      <td>Support Vector Machine</td>\n",
       "      <td>0.513942</td>\n",
       "      <td>0.514302</td>\n",
       "    </tr>\n",
       "    <tr>\n",
       "      <th>3</th>\n",
       "      <td>AdaBoostClassifier</td>\n",
       "      <td>0.491956</td>\n",
       "      <td>0.490709</td>\n",
       "    </tr>\n",
       "    <tr>\n",
       "      <th>4</th>\n",
       "      <td>GradientBoostingClassifier</td>\n",
       "      <td>0.519225</td>\n",
       "      <td>0.515555</td>\n",
       "    </tr>\n",
       "    <tr>\n",
       "      <th>5</th>\n",
       "      <td>XGBClassifier</td>\n",
       "      <td>0.528057</td>\n",
       "      <td>0.517935</td>\n",
       "    </tr>\n",
       "    <tr>\n",
       "      <th>6</th>\n",
       "      <td>KNNeighborsClassifier</td>\n",
       "      <td>0.541702</td>\n",
       "      <td>0.496430</td>\n",
       "    </tr>\n",
       "  </tbody>\n",
       "</table>\n",
       "</div>"
      ],
      "text/plain": [
       "                       models  Train_score  Test_score\n",
       "0      DecisionTreeClassifier     0.464760    0.465445\n",
       "1      RandomForestClassifier     0.456732    0.457385\n",
       "2      Support Vector Machine     0.513942    0.514302\n",
       "3          AdaBoostClassifier     0.491956    0.490709\n",
       "4  GradientBoostingClassifier     0.519225    0.515555\n",
       "5               XGBClassifier     0.528057    0.517935\n",
       "6       KNNeighborsClassifier     0.541702    0.496430"
      ]
     },
     "execution_count": 367,
     "metadata": {},
     "output_type": "execute_result"
    }
   ],
   "source": [
    "result_df['models']=['DecisionTreeClassifier','RandomForestClassifier', 'Support Vector Machine', 'AdaBoostClassifier', 'GradientBoostingClassifier', 'XGBClassifier', 'KNNeighborsClassifier']\n",
    "pd.DataFrame(result_df)"
   ]
  },
  {
   "cell_type": "markdown",
   "metadata": {
    "ExecuteTime": {
     "end_time": "2021-08-25T14:05:30.368831Z",
     "start_time": "2021-08-25T14:05:22.256963Z"
    }
   },
   "source": [
    "From above dataframe we can observe that,\n",
    "- kNN Classifier could interprete the train data in better way.\n",
    "- Support Vector Machine Classifier have more accuracy for both Train and test data."
   ]
  }
 ],
 "metadata": {
  "kernelspec": {
   "display_name": "Python 3",
   "language": "python",
   "name": "python3"
  },
  "language_info": {
   "codemirror_mode": {
    "name": "ipython",
    "version": 3
   },
   "file_extension": ".py",
   "mimetype": "text/x-python",
   "name": "python",
   "nbconvert_exporter": "python",
   "pygments_lexer": "ipython3",
   "version": "3.8.5"
  },
  "toc": {
   "base_numbering": 1,
   "nav_menu": {},
   "number_sections": true,
   "sideBar": true,
   "skip_h1_title": false,
   "title_cell": "Table of Contents",
   "title_sidebar": "Contents",
   "toc_cell": false,
   "toc_position": {
    "height": "calc(100% - 180px)",
    "left": "10px",
    "top": "150px",
    "width": "303.542px"
   },
   "toc_section_display": true,
   "toc_window_display": true
  }
 },
 "nbformat": 4,
 "nbformat_minor": 4
}
